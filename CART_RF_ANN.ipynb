{
 "cells": [
  {
   "cell_type": "code",
   "execution_count": 1,
   "metadata": {
    "id": "5GiGKFee3w98"
   },
   "outputs": [],
   "source": [
    "# Import required libraries\n",
    "import os\n",
    "import numpy as np\n",
    "import pandas as pd\n",
    "import matplotlib.pyplot as plt"
   ]
  },
  {
   "cell_type": "code",
   "execution_count": 2,
   "metadata": {
    "id": "PXjyIUpvwiFh"
   },
   "outputs": [],
   "source": [
    "from sklearn.metrics import roc_auc_score, roc_curve"
   ]
  },
  {
   "cell_type": "code",
   "execution_count": 3,
   "metadata": {
    "id": "R46kV_EX4Hyi"
   },
   "outputs": [],
   "source": [
    "pd.options.display.max_columns = None\n",
    "pd.options.display.max_rows = None"
   ]
  },
  {
   "cell_type": "code",
   "execution_count": 4,
   "metadata": {
    "id": "47y5B-nn4M77"
   },
   "outputs": [],
   "source": [
    "# Option for decimal places\n",
    "pd.options.display.float_format = '{:.2f}'.format"
   ]
  },
  {
   "cell_type": "code",
   "execution_count": 5,
   "metadata": {
    "id": "UhfnwuQJ5D4y"
   },
   "outputs": [],
   "source": [
    "df = pd.read_csv('insurance_data.csv')"
   ]
  },
  {
   "cell_type": "code",
   "execution_count": 6,
   "metadata": {
    "colab": {
     "base_uri": "https://localhost:8080/",
     "height": 206
    },
    "id": "Yykns8Cm5JcK",
    "outputId": "bec6b940-94bb-4910-a029-da5a69f898b3"
   },
   "outputs": [
    {
     "data": {
      "text/html": [
       "<div>\n",
       "<style scoped>\n",
       "    .dataframe tbody tr th:only-of-type {\n",
       "        vertical-align: middle;\n",
       "    }\n",
       "\n",
       "    .dataframe tbody tr th {\n",
       "        vertical-align: top;\n",
       "    }\n",
       "\n",
       "    .dataframe thead th {\n",
       "        text-align: right;\n",
       "    }\n",
       "</style>\n",
       "<table border=\"1\" class=\"dataframe\">\n",
       "  <thead>\n",
       "    <tr style=\"text-align: right;\">\n",
       "      <th></th>\n",
       "      <th>Age</th>\n",
       "      <th>Agency_Code</th>\n",
       "      <th>Type</th>\n",
       "      <th>Claimed</th>\n",
       "      <th>Commision</th>\n",
       "      <th>Channel</th>\n",
       "      <th>Duration</th>\n",
       "      <th>Sales</th>\n",
       "      <th>Product Name</th>\n",
       "      <th>Destination</th>\n",
       "    </tr>\n",
       "  </thead>\n",
       "  <tbody>\n",
       "    <tr>\n",
       "      <td>0</td>\n",
       "      <td>48</td>\n",
       "      <td>C2B</td>\n",
       "      <td>Airlines</td>\n",
       "      <td>No</td>\n",
       "      <td>0.70</td>\n",
       "      <td>Online</td>\n",
       "      <td>7</td>\n",
       "      <td>2.51</td>\n",
       "      <td>Customised Plan</td>\n",
       "      <td>ASIA</td>\n",
       "    </tr>\n",
       "    <tr>\n",
       "      <td>1</td>\n",
       "      <td>36</td>\n",
       "      <td>EPX</td>\n",
       "      <td>Travel Agency</td>\n",
       "      <td>No</td>\n",
       "      <td>0.00</td>\n",
       "      <td>Online</td>\n",
       "      <td>34</td>\n",
       "      <td>20.00</td>\n",
       "      <td>Customised Plan</td>\n",
       "      <td>ASIA</td>\n",
       "    </tr>\n",
       "    <tr>\n",
       "      <td>2</td>\n",
       "      <td>39</td>\n",
       "      <td>CWT</td>\n",
       "      <td>Travel Agency</td>\n",
       "      <td>No</td>\n",
       "      <td>5.94</td>\n",
       "      <td>Online</td>\n",
       "      <td>3</td>\n",
       "      <td>9.90</td>\n",
       "      <td>Customised Plan</td>\n",
       "      <td>Americas</td>\n",
       "    </tr>\n",
       "    <tr>\n",
       "      <td>3</td>\n",
       "      <td>36</td>\n",
       "      <td>EPX</td>\n",
       "      <td>Travel Agency</td>\n",
       "      <td>No</td>\n",
       "      <td>0.00</td>\n",
       "      <td>Online</td>\n",
       "      <td>4</td>\n",
       "      <td>26.00</td>\n",
       "      <td>Cancellation Plan</td>\n",
       "      <td>ASIA</td>\n",
       "    </tr>\n",
       "    <tr>\n",
       "      <td>4</td>\n",
       "      <td>33</td>\n",
       "      <td>JZI</td>\n",
       "      <td>Airlines</td>\n",
       "      <td>No</td>\n",
       "      <td>6.30</td>\n",
       "      <td>Online</td>\n",
       "      <td>53</td>\n",
       "      <td>18.00</td>\n",
       "      <td>Bronze Plan</td>\n",
       "      <td>ASIA</td>\n",
       "    </tr>\n",
       "  </tbody>\n",
       "</table>\n",
       "</div>"
      ],
      "text/plain": [
       "   Age Agency_Code           Type Claimed  Commision Channel  Duration  Sales  \\\n",
       "0   48         C2B       Airlines      No       0.70  Online         7   2.51   \n",
       "1   36         EPX  Travel Agency      No       0.00  Online        34  20.00   \n",
       "2   39         CWT  Travel Agency      No       5.94  Online         3   9.90   \n",
       "3   36         EPX  Travel Agency      No       0.00  Online         4  26.00   \n",
       "4   33         JZI       Airlines      No       6.30  Online        53  18.00   \n",
       "\n",
       "        Product Name Destination  \n",
       "0    Customised Plan        ASIA  \n",
       "1    Customised Plan        ASIA  \n",
       "2    Customised Plan    Americas  \n",
       "3  Cancellation Plan        ASIA  \n",
       "4        Bronze Plan        ASIA  "
      ]
     },
     "execution_count": 6,
     "metadata": {},
     "output_type": "execute_result"
    }
   ],
   "source": [
    "df.head()"
   ]
  },
  {
   "cell_type": "code",
   "execution_count": 7,
   "metadata": {
    "colab": {
     "base_uri": "https://localhost:8080/",
     "height": 175
    },
    "id": "czVLpDPb5KPB",
    "outputId": "4de04606-1b37-4bb8-8821-1905c55669a3"
   },
   "outputs": [
    {
     "data": {
      "text/html": [
       "<div>\n",
       "<style scoped>\n",
       "    .dataframe tbody tr th:only-of-type {\n",
       "        vertical-align: middle;\n",
       "    }\n",
       "\n",
       "    .dataframe tbody tr th {\n",
       "        vertical-align: top;\n",
       "    }\n",
       "\n",
       "    .dataframe thead th {\n",
       "        text-align: right;\n",
       "    }\n",
       "</style>\n",
       "<table border=\"1\" class=\"dataframe\">\n",
       "  <thead>\n",
       "    <tr style=\"text-align: right;\">\n",
       "      <th></th>\n",
       "      <th>count</th>\n",
       "      <th>mean</th>\n",
       "      <th>std</th>\n",
       "      <th>min</th>\n",
       "      <th>25%</th>\n",
       "      <th>50%</th>\n",
       "      <th>75%</th>\n",
       "      <th>max</th>\n",
       "    </tr>\n",
       "  </thead>\n",
       "  <tbody>\n",
       "    <tr>\n",
       "      <td>Age</td>\n",
       "      <td>3000.00</td>\n",
       "      <td>38.09</td>\n",
       "      <td>10.46</td>\n",
       "      <td>8.00</td>\n",
       "      <td>32.00</td>\n",
       "      <td>36.00</td>\n",
       "      <td>42.00</td>\n",
       "      <td>84.00</td>\n",
       "    </tr>\n",
       "    <tr>\n",
       "      <td>Commision</td>\n",
       "      <td>3000.00</td>\n",
       "      <td>14.53</td>\n",
       "      <td>25.48</td>\n",
       "      <td>0.00</td>\n",
       "      <td>0.00</td>\n",
       "      <td>4.63</td>\n",
       "      <td>17.23</td>\n",
       "      <td>210.21</td>\n",
       "    </tr>\n",
       "    <tr>\n",
       "      <td>Duration</td>\n",
       "      <td>3000.00</td>\n",
       "      <td>70.00</td>\n",
       "      <td>134.05</td>\n",
       "      <td>-1.00</td>\n",
       "      <td>11.00</td>\n",
       "      <td>26.50</td>\n",
       "      <td>63.00</td>\n",
       "      <td>4580.00</td>\n",
       "    </tr>\n",
       "    <tr>\n",
       "      <td>Sales</td>\n",
       "      <td>3000.00</td>\n",
       "      <td>60.25</td>\n",
       "      <td>70.73</td>\n",
       "      <td>0.00</td>\n",
       "      <td>20.00</td>\n",
       "      <td>33.00</td>\n",
       "      <td>69.00</td>\n",
       "      <td>539.00</td>\n",
       "    </tr>\n",
       "  </tbody>\n",
       "</table>\n",
       "</div>"
      ],
      "text/plain": [
       "            count  mean    std   min   25%   50%   75%     max\n",
       "Age       3000.00 38.09  10.46  8.00 32.00 36.00 42.00   84.00\n",
       "Commision 3000.00 14.53  25.48  0.00  0.00  4.63 17.23  210.21\n",
       "Duration  3000.00 70.00 134.05 -1.00 11.00 26.50 63.00 4580.00\n",
       "Sales     3000.00 60.25  70.73  0.00 20.00 33.00 69.00  539.00"
      ]
     },
     "execution_count": 7,
     "metadata": {},
     "output_type": "execute_result"
    }
   ],
   "source": [
    "df.describe().T"
   ]
  },
  {
   "cell_type": "code",
   "execution_count": 2,
   "metadata": {
    "id": "7eWG_pA66Vro"
   },
   "outputs": [],
   "source": [
    "import seaborn as sns"
   ]
  },
  {
   "cell_type": "code",
   "execution_count": 1,
   "metadata": {
    "colab": {
     "base_uri": "https://localhost:8080/",
     "height": 726
    },
    "id": "eZZcZByX7NHk",
    "outputId": "84f8d9d5-85bc-4049-f9c1-9ad0f36ad81b"
   },
   "outputs": [
    {
     "ename": "NameError",
     "evalue": "name 'sns' is not defined",
     "output_type": "error",
     "traceback": [
      "\u001b[1;31m---------------------------------------------------------------------------\u001b[0m",
      "\u001b[1;31mNameError\u001b[0m                                 Traceback (most recent call last)",
      "\u001b[1;32m<ipython-input-1-fb60cb3466c2>\u001b[0m in \u001b[0;36m<module>\u001b[1;34m\u001b[0m\n\u001b[1;32m----> 1\u001b[1;33m \u001b[0msns\u001b[0m\u001b[1;33m.\u001b[0m\u001b[0mpairplot\u001b[0m\u001b[1;33m(\u001b[0m\u001b[0mdf\u001b[0m\u001b[1;33m,\u001b[0m \u001b[0mhue\u001b[0m \u001b[1;33m=\u001b[0m \u001b[1;34m'Claimed'\u001b[0m \u001b[1;33m)\u001b[0m\u001b[1;33m;\u001b[0m\u001b[1;33m\u001b[0m\u001b[1;33m\u001b[0m\u001b[0m\n\u001b[0m",
      "\u001b[1;31mNameError\u001b[0m: name 'sns' is not defined"
     ]
    }
   ],
   "source": [
    "sns.pairplot(df, hue = 'Claimed' );"
   ]
  },
  {
   "cell_type": "code",
   "execution_count": 10,
   "metadata": {
    "colab": {
     "base_uri": "https://localhost:8080/"
    },
    "id": "sAMH8p587QmT",
    "outputId": "181b3c1f-4d47-433e-daf6-f5e9b2f1315b"
   },
   "outputs": [
    {
     "name": "stdout",
     "output_type": "stream",
     "text": [
      "<class 'pandas.core.frame.DataFrame'>\n",
      "RangeIndex: 3000 entries, 0 to 2999\n",
      "Data columns (total 10 columns):\n",
      "Age             3000 non-null int64\n",
      "Agency_Code     3000 non-null object\n",
      "Type            3000 non-null object\n",
      "Claimed         3000 non-null object\n",
      "Commision       3000 non-null float64\n",
      "Channel         3000 non-null object\n",
      "Duration        3000 non-null int64\n",
      "Sales           3000 non-null float64\n",
      "Product Name    3000 non-null object\n",
      "Destination     3000 non-null object\n",
      "dtypes: float64(2), int64(2), object(6)\n",
      "memory usage: 234.5+ KB\n"
     ]
    }
   ],
   "source": [
    "df.info()"
   ]
  },
  {
   "cell_type": "code",
   "execution_count": 11,
   "metadata": {
    "colab": {
     "base_uri": "https://localhost:8080/"
    },
    "id": "R7WT6saq_ckZ",
    "outputId": "f2d43a35-2e47-4a04-f5cd-759624751f54"
   },
   "outputs": [
    {
     "data": {
      "text/plain": [
       "0"
      ]
     },
     "execution_count": 11,
     "metadata": {},
     "output_type": "execute_result"
    }
   ],
   "source": [
    "df.isnull().sum().sum()"
   ]
  },
  {
   "cell_type": "code",
   "execution_count": 12,
   "metadata": {
    "colab": {
     "base_uri": "https://localhost:8080/"
    },
    "id": "AdOwoWx3CB9i",
    "outputId": "bd7106e2-53cf-466c-b5df-d133a0d027c8"
   },
   "outputs": [
    {
     "data": {
      "text/plain": [
       "139"
      ]
     },
     "execution_count": 12,
     "metadata": {},
     "output_type": "execute_result"
    }
   ],
   "source": [
    "df.duplicated().sum()"
   ]
  },
  {
   "cell_type": "code",
   "execution_count": 13,
   "metadata": {
    "id": "y9tHllbvCGW0"
   },
   "outputs": [],
   "source": [
    "df.drop_duplicates(inplace=True)"
   ]
  },
  {
   "cell_type": "code",
   "execution_count": 14,
   "metadata": {
    "id": "prM4huWS8jKT"
   },
   "outputs": [],
   "source": [
    "df.drop(labels=df[df['Duration'] < 0].index, inplace=True)"
   ]
  },
  {
   "cell_type": "code",
   "execution_count": 15,
   "metadata": {
    "colab": {
     "base_uri": "https://localhost:8080/"
    },
    "id": "n9MPiHj_D1sv",
    "outputId": "89a89d48-5ce2-43f4-e380-e15616f21373"
   },
   "outputs": [
    {
     "name": "stdout",
     "output_type": "stream",
     "text": [
      "<class 'pandas.core.frame.DataFrame'>\n",
      "Int64Index: 2860 entries, 0 to 2999\n",
      "Data columns (total 10 columns):\n",
      "Age             2860 non-null int64\n",
      "Agency_Code     2860 non-null object\n",
      "Type            2860 non-null object\n",
      "Claimed         2860 non-null object\n",
      "Commision       2860 non-null float64\n",
      "Channel         2860 non-null object\n",
      "Duration        2860 non-null int64\n",
      "Sales           2860 non-null float64\n",
      "Product Name    2860 non-null object\n",
      "Destination     2860 non-null object\n",
      "dtypes: float64(2), int64(2), object(6)\n",
      "memory usage: 245.8+ KB\n"
     ]
    }
   ],
   "source": [
    "df.info()"
   ]
  },
  {
   "cell_type": "code",
   "execution_count": 16,
   "metadata": {
    "colab": {
     "base_uri": "https://localhost:8080/",
     "height": 81
    },
    "id": "lbebc3lu9GvE",
    "outputId": "68bee8f2-fe7f-48b0-95e6-8b7720ce6c95"
   },
   "outputs": [
    {
     "data": {
      "text/html": [
       "<div>\n",
       "<style scoped>\n",
       "    .dataframe tbody tr th:only-of-type {\n",
       "        vertical-align: middle;\n",
       "    }\n",
       "\n",
       "    .dataframe tbody tr th {\n",
       "        vertical-align: top;\n",
       "    }\n",
       "\n",
       "    .dataframe thead th {\n",
       "        text-align: right;\n",
       "    }\n",
       "</style>\n",
       "<table border=\"1\" class=\"dataframe\">\n",
       "  <thead>\n",
       "    <tr style=\"text-align: right;\">\n",
       "      <th></th>\n",
       "      <th>Age</th>\n",
       "      <th>Agency_Code</th>\n",
       "      <th>Type</th>\n",
       "      <th>Claimed</th>\n",
       "      <th>Commision</th>\n",
       "      <th>Channel</th>\n",
       "      <th>Duration</th>\n",
       "      <th>Sales</th>\n",
       "      <th>Product Name</th>\n",
       "      <th>Destination</th>\n",
       "    </tr>\n",
       "  </thead>\n",
       "  <tbody>\n",
       "    <tr>\n",
       "      <td>2845</td>\n",
       "      <td>48</td>\n",
       "      <td>C2B</td>\n",
       "      <td>Airlines</td>\n",
       "      <td>No</td>\n",
       "      <td>0.09</td>\n",
       "      <td>Online</td>\n",
       "      <td>4580</td>\n",
       "      <td>0.32</td>\n",
       "      <td>Customised Plan</td>\n",
       "      <td>ASIA</td>\n",
       "    </tr>\n",
       "  </tbody>\n",
       "</table>\n",
       "</div>"
      ],
      "text/plain": [
       "      Age Agency_Code      Type Claimed  Commision Channel  Duration  Sales  \\\n",
       "2845   48         C2B  Airlines      No       0.09  Online      4580   0.32   \n",
       "\n",
       "         Product Name Destination  \n",
       "2845  Customised Plan        ASIA  "
      ]
     },
     "execution_count": 16,
     "metadata": {},
     "output_type": "execute_result"
    }
   ],
   "source": [
    "df[df['Duration'] > 3000]"
   ]
  },
  {
   "cell_type": "code",
   "execution_count": 17,
   "metadata": {
    "colab": {
     "base_uri": "https://localhost:8080/",
     "height": 335
    },
    "id": "McI0Hex39tzB",
    "outputId": "275ed2db-1b93-4f86-c68f-170289a4ad3c"
   },
   "outputs": [
    {
     "data": {
      "image/png": "[encoded data removed]",
      "text/plain": [
       "<Figure size 432x288 with 1 Axes>"
      ]
     },
     "metadata": {
      "needs_background": "light"
     },
     "output_type": "display_data"
    }
   ],
   "source": [
    "sns.countplot(df['Claimed']);"
   ]
  },
  {
   "cell_type": "code",
   "execution_count": 18,
   "metadata": {
    "colab": {
     "base_uri": "https://localhost:8080/"
    },
    "id": "eE1m9VrH-qep",
    "outputId": "460c5496-63fa-4215-ceae-5bf5b541bd46"
   },
   "outputs": [
    {
     "data": {
      "text/plain": [
       "No     1946\n",
       "Yes     914\n",
       "Name: Claimed, dtype: int64"
      ]
     },
     "execution_count": 18,
     "metadata": {},
     "output_type": "execute_result"
    }
   ],
   "source": [
    "df['Claimed'].value_counts()"
   ]
  },
  {
   "cell_type": "code",
   "execution_count": 19,
   "metadata": {
    "colab": {
     "base_uri": "https://localhost:8080/"
    },
    "id": "W9zlH87v_W5c",
    "outputId": "13de8d66-0262-426b-c2b9-91a318c956a3"
   },
   "outputs": [
    {
     "data": {
      "text/plain": [
       "No    68.04\n",
       "Yes   31.96\n",
       "Name: Claimed, dtype: float64"
      ]
     },
     "execution_count": 19,
     "metadata": {},
     "output_type": "execute_result"
    }
   ],
   "source": [
    "df['Claimed'].value_counts(normalize=True)*100"
   ]
  },
  {
   "cell_type": "code",
   "execution_count": 20,
   "metadata": {
    "id": "MWAvyYG6cMxS"
   },
   "outputs": [],
   "source": [
    "for cols in df:\n",
    "    if df[cols].dtype=='object':\n",
    "        df[cols]=pd.Categorical(df[cols]).codes"
   ]
  },
  {
   "cell_type": "code",
   "execution_count": 21,
   "metadata": {
    "colab": {
     "base_uri": "https://localhost:8080/",
     "height": 206
    },
    "id": "2pzBQ9d1cVOn",
    "outputId": "e1a9fcbd-72f6-46c3-bd32-d9656be64b11"
   },
   "outputs": [
    {
     "data": {
      "text/html": [
       "<div>\n",
       "<style scoped>\n",
       "    .dataframe tbody tr th:only-of-type {\n",
       "        vertical-align: middle;\n",
       "    }\n",
       "\n",
       "    .dataframe tbody tr th {\n",
       "        vertical-align: top;\n",
       "    }\n",
       "\n",
       "    .dataframe thead th {\n",
       "        text-align: right;\n",
       "    }\n",
       "</style>\n",
       "<table border=\"1\" class=\"dataframe\">\n",
       "  <thead>\n",
       "    <tr style=\"text-align: right;\">\n",
       "      <th></th>\n",
       "      <th>Age</th>\n",
       "      <th>Agency_Code</th>\n",
       "      <th>Type</th>\n",
       "      <th>Claimed</th>\n",
       "      <th>Commision</th>\n",
       "      <th>Channel</th>\n",
       "      <th>Duration</th>\n",
       "      <th>Sales</th>\n",
       "      <th>Product Name</th>\n",
       "      <th>Destination</th>\n",
       "    </tr>\n",
       "  </thead>\n",
       "  <tbody>\n",
       "    <tr>\n",
       "      <td>0</td>\n",
       "      <td>48</td>\n",
       "      <td>0</td>\n",
       "      <td>0</td>\n",
       "      <td>0</td>\n",
       "      <td>0.70</td>\n",
       "      <td>1</td>\n",
       "      <td>7</td>\n",
       "      <td>2.51</td>\n",
       "      <td>2</td>\n",
       "      <td>0</td>\n",
       "    </tr>\n",
       "    <tr>\n",
       "      <td>1</td>\n",
       "      <td>36</td>\n",
       "      <td>2</td>\n",
       "      <td>1</td>\n",
       "      <td>0</td>\n",
       "      <td>0.00</td>\n",
       "      <td>1</td>\n",
       "      <td>34</td>\n",
       "      <td>20.00</td>\n",
       "      <td>2</td>\n",
       "      <td>0</td>\n",
       "    </tr>\n",
       "    <tr>\n",
       "      <td>2</td>\n",
       "      <td>39</td>\n",
       "      <td>1</td>\n",
       "      <td>1</td>\n",
       "      <td>0</td>\n",
       "      <td>5.94</td>\n",
       "      <td>1</td>\n",
       "      <td>3</td>\n",
       "      <td>9.90</td>\n",
       "      <td>2</td>\n",
       "      <td>1</td>\n",
       "    </tr>\n",
       "    <tr>\n",
       "      <td>3</td>\n",
       "      <td>36</td>\n",
       "      <td>2</td>\n",
       "      <td>1</td>\n",
       "      <td>0</td>\n",
       "      <td>0.00</td>\n",
       "      <td>1</td>\n",
       "      <td>4</td>\n",
       "      <td>26.00</td>\n",
       "      <td>1</td>\n",
       "      <td>0</td>\n",
       "    </tr>\n",
       "    <tr>\n",
       "      <td>4</td>\n",
       "      <td>33</td>\n",
       "      <td>3</td>\n",
       "      <td>0</td>\n",
       "      <td>0</td>\n",
       "      <td>6.30</td>\n",
       "      <td>1</td>\n",
       "      <td>53</td>\n",
       "      <td>18.00</td>\n",
       "      <td>0</td>\n",
       "      <td>0</td>\n",
       "    </tr>\n",
       "  </tbody>\n",
       "</table>\n",
       "</div>"
      ],
      "text/plain": [
       "   Age  Agency_Code  Type  Claimed  Commision  Channel  Duration  Sales  \\\n",
       "0   48            0     0        0       0.70        1         7   2.51   \n",
       "1   36            2     1        0       0.00        1        34  20.00   \n",
       "2   39            1     1        0       5.94        1         3   9.90   \n",
       "3   36            2     1        0       0.00        1         4  26.00   \n",
       "4   33            3     0        0       6.30        1        53  18.00   \n",
       "\n",
       "   Product Name  Destination  \n",
       "0             2            0  \n",
       "1             2            0  \n",
       "2             2            1  \n",
       "3             1            0  \n",
       "4             0            0  "
      ]
     },
     "execution_count": 21,
     "metadata": {},
     "output_type": "execute_result"
    }
   ],
   "source": [
    "df.head()"
   ]
  },
  {
   "cell_type": "code",
   "execution_count": 22,
   "metadata": {
    "id": "bsNe-r6uCK7y"
   },
   "outputs": [],
   "source": [
    "# Model building Decision Tree"
   ]
  },
  {
   "cell_type": "code",
   "execution_count": 23,
   "metadata": {
    "id": "_2HSqI3KaRrm"
   },
   "outputs": [],
   "source": [
    "X = df.drop('Claimed', axis=1)\n",
    "y = df['Claimed']"
   ]
  },
  {
   "cell_type": "code",
   "execution_count": 24,
   "metadata": {
    "id": "jP9UR8bPZt0t"
   },
   "outputs": [],
   "source": [
    "# splitting data into training and test set for independent attributes\n",
    "from sklearn.model_selection import train_test_split\n",
    "\n",
    "X_train, X_test, y_train, y_test = train_test_split(X, y, test_size=.30, random_state=1)"
   ]
  },
  {
   "cell_type": "code",
   "execution_count": 25,
   "metadata": {
    "id": "-2USBEIMbi_G"
   },
   "outputs": [],
   "source": [
    "from sklearn.tree import DecisionTreeClassifier"
   ]
  },
  {
   "cell_type": "code",
   "execution_count": 26,
   "metadata": {
    "id": "pXf1ojJ7ajh1"
   },
   "outputs": [],
   "source": [
    "dt_model = DecisionTreeClassifier(criterion = 'gini', random_state=1)"
   ]
  },
  {
   "cell_type": "code",
   "execution_count": 27,
   "metadata": {
    "colab": {
     "base_uri": "https://localhost:8080/"
    },
    "id": "nAS0lVI6ar0G",
    "outputId": "1672aa1d-7e89-469e-85f3-a79e4e143c4f"
   },
   "outputs": [
    {
     "data": {
      "text/plain": [
       "DecisionTreeClassifier(class_weight=None, criterion='gini', max_depth=None,\n",
       "                       max_features=None, max_leaf_nodes=None,\n",
       "                       min_impurity_decrease=0.0, min_impurity_split=None,\n",
       "                       min_samples_leaf=1, min_samples_split=2,\n",
       "                       min_weight_fraction_leaf=0.0, presort=False,\n",
       "                       random_state=1, splitter='best')"
      ]
     },
     "execution_count": 27,
     "metadata": {},
     "output_type": "execute_result"
    }
   ],
   "source": [
    "dt_model.fit(X_train, y_train)"
   ]
  },
  {
   "cell_type": "code",
   "execution_count": 28,
   "metadata": {
    "id": "2NJmPcsebp64"
   },
   "outputs": [],
   "source": [
    "from sklearn.model_selection import GridSearchCV"
   ]
  },
  {
   "cell_type": "code",
   "execution_count": 29,
   "metadata": {
    "id": "pIWaybkMcf1G"
   },
   "outputs": [],
   "source": [
    "param_grid = {\n",
    "    'max_depth': [7, 8, 9, 10],\n",
    "    'min_samples_leaf': [10, 13, 20],\n",
    "    'min_samples_split': [30, 45, 60, 75]\n",
    "}\n",
    "\n",
    "dt_model = DecisionTreeClassifier(random_state=1)\n",
    "\n",
    "grid_search = GridSearchCV(estimator = dt_model, param_grid = param_grid, cv = 3)"
   ]
  },
  {
   "cell_type": "code",
   "execution_count": 30,
   "metadata": {
    "colab": {
     "base_uri": "https://localhost:8080/"
    },
    "id": "-bLUoVFlcxKj",
    "outputId": "8dd08b76-dae5-4953-a5b2-a49e4e8fadc8"
   },
   "outputs": [
    {
     "data": {
      "text/plain": [
       "GridSearchCV(cv=3, error_score='raise-deprecating',\n",
       "             estimator=DecisionTreeClassifier(class_weight=None,\n",
       "                                              criterion='gini', max_depth=None,\n",
       "                                              max_features=None,\n",
       "                                              max_leaf_nodes=None,\n",
       "                                              min_impurity_decrease=0.0,\n",
       "                                              min_impurity_split=None,\n",
       "                                              min_samples_leaf=1,\n",
       "                                              min_samples_split=2,\n",
       "                                              min_weight_fraction_leaf=0.0,\n",
       "                                              presort=False, random_state=1,\n",
       "                                              splitter='best'),\n",
       "             iid='warn', n_jobs=None,\n",
       "             param_grid={'max_depth': [7, 8, 9, 10],\n",
       "                         'min_samples_leaf': [10, 13, 20],\n",
       "                         'min_samples_split': [30, 45, 60, 75]},\n",
       "             pre_dispatch='2*n_jobs', refit=True, return_train_score=False,\n",
       "             scoring=None, verbose=0)"
      ]
     },
     "execution_count": 30,
     "metadata": {},
     "output_type": "execute_result"
    }
   ],
   "source": [
    "grid_search.fit(X_train, y_train)"
   ]
  },
  {
   "cell_type": "code",
   "execution_count": 31,
   "metadata": {
    "colab": {
     "base_uri": "https://localhost:8080/"
    },
    "id": "GJnOO4acc1IP",
    "outputId": "985a4e2c-5090-41b6-c06b-ccb5b999f470"
   },
   "outputs": [
    {
     "data": {
      "text/plain": [
       "{'max_depth': 7, 'min_samples_leaf': 10, 'min_samples_split': 45}"
      ]
     },
     "execution_count": 31,
     "metadata": {},
     "output_type": "execute_result"
    }
   ],
   "source": [
    "grid_search.best_params_"
   ]
  },
  {
   "cell_type": "code",
   "execution_count": 32,
   "metadata": {
    "id": "poAt0rrqc4M1"
   },
   "outputs": [],
   "source": [
    "best_grid_dt = grid_search.best_estimator_"
   ]
  },
  {
   "cell_type": "code",
   "execution_count": 33,
   "metadata": {
    "id": "nuhXxTDSc-BP"
   },
   "outputs": [],
   "source": [
    "ytrain_predict_dt = best_grid_dt.predict(X_train)\n",
    "ytest_predict_dt = best_grid_dt.predict(X_test)"
   ]
  },
  {
   "cell_type": "code",
   "execution_count": 34,
   "metadata": {
    "id": "2iZqHGANdDBC"
   },
   "outputs": [],
   "source": [
    "from sklearn.metrics import classification_report"
   ]
  },
  {
   "cell_type": "code",
   "execution_count": 35,
   "metadata": {
    "colab": {
     "base_uri": "https://localhost:8080/"
    },
    "id": "UaDu21CidFPW",
    "outputId": "bdee4e0f-0e26-4e67-a8dc-4828e76d25ed"
   },
   "outputs": [
    {
     "name": "stdout",
     "output_type": "stream",
     "text": [
      "              precision    recall  f1-score   support\n",
      "\n",
      "           0       0.82      0.90      0.86      1343\n",
      "           1       0.75      0.60      0.67       659\n",
      "\n",
      "    accuracy                           0.80      2002\n",
      "   macro avg       0.79      0.75      0.76      2002\n",
      "weighted avg       0.80      0.80      0.80      2002\n",
      "\n"
     ]
    }
   ],
   "source": [
    "print(classification_report(y_train,ytrain_predict_dt))"
   ]
  },
  {
   "cell_type": "code",
   "execution_count": 36,
   "metadata": {
    "colab": {
     "base_uri": "https://localhost:8080/"
    },
    "id": "lo3AmDDfhuoi",
    "outputId": "5fd27a29-9d5f-4dd5-ea1e-2d259a9c75b9"
   },
   "outputs": [
    {
     "name": "stdout",
     "output_type": "stream",
     "text": [
      "Accuracy 0.8031968031968032\n",
      "AUC: 0.852\n"
     ]
    }
   ],
   "source": [
    "cart_train_acc = best_grid_dt.score(X_train, y_train)\n",
    "probsDT_train = best_grid_dt.predict_proba(X_train)[:, 1]\n",
    "DT_train_auc = roc_auc_score(y_train, probsDT_train)\n",
    "print('Accuracy', cart_train_acc)\n",
    "print('AUC: %.3f' % DT_train_auc)"
   ]
  },
  {
   "cell_type": "code",
   "execution_count": 37,
   "metadata": {
    "colab": {
     "base_uri": "https://localhost:8080/",
     "height": 231
    },
    "id": "LID7BYNshhug",
    "outputId": "825251ec-cb70-43bc-80a4-c3d4847fdbf6"
   },
   "outputs": [
    {
     "name": "stdout",
     "output_type": "stream",
     "text": [
      "Accuracy 0.8031968031968032\n",
      "AUC: 0.852\n",
      "cart_train_precision  0.75\n",
      "cart_train_recall  0.6\n",
      "cart_train_f1  0.67\n"
     ]
    }
   ],
   "source": [
    "cart_train_acc = best_grid_dt.score(X_train, y_train)\n",
    "probsDT_train = best_grid_dt.predict_proba(X_train)[:, 1]\n",
    "DT_train_auc = roc_auc_score(y_train, probsDT_train)\n",
    "print('Accuracy', cart_train_acc)\n",
    "print('AUC: %.3f' % DT_train_auc)\n",
    "cart_metrics=classification_report(y_train,ytrain_predict_dt,output_dict=True)\n",
    "data=pd.DataFrame(cart_metrics).transpose()\n",
    "cart_train_precision=round(data.loc[\"1\"][0],2)\n",
    "cart_train_recall=round(data.loc[\"1\"][1],2)\n",
    "cart_train_f1=round(data.loc[\"1\"][2],2)\n",
    "print ('cart_train_precision ',cart_train_precision)\n",
    "print ('cart_train_recall ',cart_train_recall)\n",
    "print ('cart_train_f1 ',cart_train_f1)"
   ]
  },
  {
   "cell_type": "code",
   "execution_count": 38,
   "metadata": {
    "colab": {
     "base_uri": "https://localhost:8080/"
    },
    "id": "awVtkn9HdJWE",
    "outputId": "d76cd7a8-f2d4-445d-b487-f5441c555feb"
   },
   "outputs": [
    {
     "name": "stdout",
     "output_type": "stream",
     "text": [
      "              precision    recall  f1-score   support\n",
      "\n",
      "           0       0.81      0.88      0.84       603\n",
      "           1       0.64      0.51      0.57       255\n",
      "\n",
      "    accuracy                           0.77       858\n",
      "   macro avg       0.72      0.69      0.70       858\n",
      "weighted avg       0.76      0.77      0.76       858\n",
      "\n"
     ]
    }
   ],
   "source": [
    "print(classification_report(y_test,ytest_predict_dt))"
   ]
  },
  {
   "cell_type": "code",
   "execution_count": 39,
   "metadata": {
    "colab": {
     "base_uri": "https://localhost:8080/"
    },
    "id": "VxCQTfY0h4TK",
    "outputId": "42ad26a6-47e6-4121-a848-bb8cd2a748e8"
   },
   "outputs": [
    {
     "name": "stdout",
     "output_type": "stream",
     "text": [
      "Accuracy 0.7680652680652681\n",
      "AUC: 0.778\n",
      "cart_test_precision  0.64\n",
      "cart_test_recall  0.51\n",
      "cart_test_f1  0.57\n"
     ]
    }
   ],
   "source": [
    "cart_test_acc = best_grid_dt.score(X_test, y_test)\n",
    "probsDT_test = best_grid_dt.predict_proba(X_test)[:, 1]\n",
    "DT_test_auc = roc_auc_score(y_test, probsDT_test)\n",
    "print('Accuracy', cart_test_acc)\n",
    "print('AUC: %.3f' % DT_test_auc)\n",
    "cart_metrics=classification_report(y_test,ytest_predict_dt,output_dict=True)\n",
    "data=pd.DataFrame(cart_metrics).transpose()\n",
    "cart_test_precision=round(data.loc[\"1\"][0],2)\n",
    "cart_test_recall=round(data.loc[\"1\"][1],2)\n",
    "cart_test_f1=round(data.loc[\"1\"][2],2)\n",
    "print ('cart_test_precision ',cart_test_precision)\n",
    "print ('cart_test_recall ',cart_test_recall)\n",
    "print ('cart_test_f1 ',cart_test_f1)"
   ]
  },
  {
   "cell_type": "code",
   "execution_count": 40,
   "metadata": {
    "id": "0ET1Lx9adNE5"
   },
   "outputs": [],
   "source": [
    "from sklearn.metrics import confusion_matrix"
   ]
  },
  {
   "cell_type": "code",
   "execution_count": 41,
   "metadata": {
    "colab": {
     "base_uri": "https://localhost:8080/"
    },
    "id": "DqZEBdmiemla",
    "outputId": "db722e1c-122f-4caf-d652-1fc9be010fda"
   },
   "outputs": [
    {
     "name": "stdout",
     "output_type": "stream",
     "text": [
      "[[1210  133]\n",
      " [ 261  398]]\n"
     ]
    }
   ],
   "source": [
    "print(confusion_matrix(y_train,ytrain_predict_dt))"
   ]
  },
  {
   "cell_type": "code",
   "execution_count": 42,
   "metadata": {
    "colab": {
     "base_uri": "https://localhost:8080/"
    },
    "id": "mSn2_FbmeuUK",
    "outputId": "84e91147-6153-400d-f127-9c1f5e1e249c"
   },
   "outputs": [
    {
     "name": "stdout",
     "output_type": "stream",
     "text": [
      "[[528  75]\n",
      " [124 131]]\n"
     ]
    }
   ],
   "source": [
    "print(confusion_matrix(y_test,ytest_predict_dt))"
   ]
  },
  {
   "cell_type": "code",
   "execution_count": 43,
   "metadata": {
    "id": "3u-zNqZbhLlP"
   },
   "outputs": [],
   "source": [
    "from sklearn import tree"
   ]
  },
  {
   "cell_type": "code",
   "execution_count": 44,
   "metadata": {
    "id": "6s_eFLK2hrYU"
   },
   "outputs": [],
   "source": [
    "train_labels = ['No','Yes']"
   ]
  },
  {
   "cell_type": "code",
   "execution_count": 45,
   "metadata": {
    "id": "bMteLo9ch2Ga"
   },
   "outputs": [],
   "source": [
    "dt_model = DecisionTreeClassifier(criterion = 'gini',max_depth= 8, min_samples_leaf= 20, min_samples_split= 45, random_state=1)"
   ]
  },
  {
   "cell_type": "code",
   "execution_count": 46,
   "metadata": {
    "colab": {
     "base_uri": "https://localhost:8080/"
    },
    "id": "Lux6FgJDh8We",
    "outputId": "35c7b8bc-a321-4ccd-cf68-b4338ee9c7d8"
   },
   "outputs": [
    {
     "data": {
      "text/plain": [
       "DecisionTreeClassifier(class_weight=None, criterion='gini', max_depth=8,\n",
       "                       max_features=None, max_leaf_nodes=None,\n",
       "                       min_impurity_decrease=0.0, min_impurity_split=None,\n",
       "                       min_samples_leaf=20, min_samples_split=45,\n",
       "                       min_weight_fraction_leaf=0.0, presort=False,\n",
       "                       random_state=1, splitter='best')"
      ]
     },
     "execution_count": 46,
     "metadata": {},
     "output_type": "execute_result"
    }
   ],
   "source": [
    "dt_model.fit(X_train, y_train)"
   ]
  },
  {
   "cell_type": "code",
   "execution_count": 47,
   "metadata": {
    "colab": {
     "base_uri": "https://localhost:8080/"
    },
    "id": "SMUbiDmZeyQz",
    "outputId": "285e88b6-ed66-479b-8fbc-640b0799c43f"
   },
   "outputs": [
    {
     "name": "stdout",
     "output_type": "stream",
     "text": [
      "              Imp\n",
      "Age          0.05\n",
      "Agency_Code  0.48\n",
      "Type         0.00\n",
      "Commision    0.07\n",
      "Channel      0.00\n",
      "Duration     0.08\n",
      "Sales        0.25\n",
      "Product Name 0.04\n",
      "Destination  0.02\n"
     ]
    }
   ],
   "source": [
    "insurance_tree_regularized = open('insurance_tree_regularized.dot','w')\n",
    "dot_data = tree.export_graphviz(dt_model, out_file= insurance_tree_regularized , feature_names = list(X_train), class_names = list(train_labels))\n",
    "insurance_tree_regularized.close()\n",
    "\n",
    "print(pd.DataFrame(dt_model.feature_importances_, columns = [\"Imp\"], index = X_train.columns))"
   ]
  },
  {
   "cell_type": "code",
   "execution_count": 48,
   "metadata": {
    "colab": {
     "base_uri": "https://localhost:8080/",
     "height": 283
    },
    "id": "eGDMKDChpFrq",
    "outputId": "ea0cf53a-c164-4ff1-bbfd-75148dd08e33"
   },
   "outputs": [
    {
     "name": "stdout",
     "output_type": "stream",
     "text": [
      "AUC: 0.852\n"
     ]
    },
    {
     "data": {
      "image/png": "[encoded data removed]",
      "text/plain": [
       "<Figure size 432x288 with 1 Axes>"
      ]
     },
     "metadata": {
      "needs_background": "light"
     },
     "output_type": "display_data"
    }
   ],
   "source": [
    "print('AUC: %.3f' % DT_train_auc)\n",
    "fpr_dt_train, tpr_dt_train, thresholds_dt = roc_curve(y_train, probsDT_train)\n",
    "plt.plot([0, 1], [0, 1], linestyle='--')\n",
    "# plot the roc curve for the model\n",
    "plt.plot(fpr_dt_train, tpr_dt_train, marker='.')\n",
    "# show the plot\n",
    "plt.show()"
   ]
  },
  {
   "cell_type": "code",
   "execution_count": 49,
   "metadata": {
    "colab": {
     "base_uri": "https://localhost:8080/",
     "height": 283
    },
    "id": "ykSxtlVfqfoy",
    "outputId": "c52f9fec-9450-4d9e-bc74-eabd25127d8d"
   },
   "outputs": [
    {
     "name": "stdout",
     "output_type": "stream",
     "text": [
      "AUC: 0.778\n"
     ]
    },
    {
     "data": {
      "image/png": "[encoded data removed]",
      "text/plain": [
       "<Figure size 432x288 with 1 Axes>"
      ]
     },
     "metadata": {
      "needs_background": "light"
     },
     "output_type": "display_data"
    }
   ],
   "source": [
    "print('AUC: %.3f' % DT_test_auc)\n",
    "fpr_dt_test, tpr_dt_test, thresholds_dt = roc_curve(y_test, probsDT_test)\n",
    "plt.plot([0, 1], [0, 1], linestyle='--')\n",
    "# plot the roc curve for the model\n",
    "plt.plot(fpr_dt_test, tpr_dt_test, marker='.')\n",
    "# show the plot\n",
    "plt.show()"
   ]
  },
  {
   "cell_type": "markdown",
   "metadata": {
    "id": "0M3gJWuLxW9D"
   },
   "source": [
    "\n",
    "\n",
    "> **Random Forest**\n",
    "\n"
   ]
  },
  {
   "cell_type": "code",
   "execution_count": 50,
   "metadata": {
    "id": "QfCtO0vTkYJW"
   },
   "outputs": [],
   "source": [
    "from sklearn.ensemble import RandomForestClassifier"
   ]
  },
  {
   "cell_type": "code",
   "execution_count": 51,
   "metadata": {
    "id": "gLxSzFD5hIV4"
   },
   "outputs": [],
   "source": [
    "param_grid = {\n",
    "    'max_depth': [6, 7, 8],\n",
    "    'max_features': [4,5,6,7],\n",
    "    'min_samples_leaf': [10, 15, 20],\n",
    "    'min_samples_split': [30, 45, 60],\n",
    "    'n_estimators': [51, 101]\n",
    "}\n",
    "\n",
    "rfc = RandomForestClassifier(oob_score=True, random_state=23)\n",
    "\n",
    "grid_search = GridSearchCV(estimator = rfc, param_grid = param_grid, cv = 3)"
   ]
  },
  {
   "cell_type": "code",
   "execution_count": 52,
   "metadata": {
    "colab": {
     "base_uri": "https://localhost:8080/"
    },
    "id": "-YK0arKMr3qQ",
    "outputId": "472afc52-2530-4e1a-b44a-9939b3b328e2"
   },
   "outputs": [
    {
     "data": {
      "text/plain": [
       "GridSearchCV(cv=3, error_score='raise-deprecating',\n",
       "             estimator=RandomForestClassifier(bootstrap=True, class_weight=None,\n",
       "                                              criterion='gini', max_depth=None,\n",
       "                                              max_features='auto',\n",
       "                                              max_leaf_nodes=None,\n",
       "                                              min_impurity_decrease=0.0,\n",
       "                                              min_impurity_split=None,\n",
       "                                              min_samples_leaf=1,\n",
       "                                              min_samples_split=2,\n",
       "                                              min_weight_fraction_leaf=0.0,\n",
       "                                              n_estimators='warn', n_jobs=None,\n",
       "                                              oob_score=True, random_state=23,\n",
       "                                              verbose=0, warm_start=False),\n",
       "             iid='warn', n_jobs=None,\n",
       "             param_grid={'max_depth': [6, 7, 8], 'max_features': [4, 5, 6, 7],\n",
       "                         'min_samples_leaf': [10, 15, 20],\n",
       "                         'min_samples_split': [30, 45, 60],\n",
       "                         'n_estimators': [51, 101]},\n",
       "             pre_dispatch='2*n_jobs', refit=True, return_train_score=False,\n",
       "             scoring=None, verbose=0)"
      ]
     },
     "execution_count": 52,
     "metadata": {},
     "output_type": "execute_result"
    }
   ],
   "source": [
    "grid_search.fit(X_train, y_train)"
   ]
  },
  {
   "cell_type": "code",
   "execution_count": 53,
   "metadata": {
    "colab": {
     "base_uri": "https://localhost:8080/"
    },
    "id": "n-3jQcYQrreV",
    "outputId": "63c9479d-b83c-43d7-aaa7-6855009c8e27"
   },
   "outputs": [
    {
     "data": {
      "text/plain": [
       "{'max_depth': 6,\n",
       " 'max_features': 6,\n",
       " 'min_samples_leaf': 10,\n",
       " 'min_samples_split': 45,\n",
       " 'n_estimators': 51}"
      ]
     },
     "execution_count": 53,
     "metadata": {},
     "output_type": "execute_result"
    }
   ],
   "source": [
    "grid_search.best_params_"
   ]
  },
  {
   "cell_type": "code",
   "execution_count": 54,
   "metadata": {
    "id": "oPHD9YpSruyt"
   },
   "outputs": [],
   "source": [
    "best_grid_rfc = grid_search.best_estimator_"
   ]
  },
  {
   "cell_type": "code",
   "execution_count": 55,
   "metadata": {
    "colab": {
     "base_uri": "https://localhost:8080/"
    },
    "id": "m7FTHUK78uan",
    "outputId": "99e427a0-adc3-48ea-ce10-f40ea1ec79c9"
   },
   "outputs": [
    {
     "data": {
      "text/plain": [
       "0.7657342657342657"
      ]
     },
     "execution_count": 55,
     "metadata": {},
     "output_type": "execute_result"
    }
   ],
   "source": [
    "best_grid_rfc.oob_score_"
   ]
  },
  {
   "cell_type": "code",
   "execution_count": 56,
   "metadata": {
    "colab": {
     "base_uri": "https://localhost:8080/"
    },
    "id": "gMeLDPc67cux",
    "outputId": "f80a191d-f789-4f0a-a612-c3d532e29513"
   },
   "outputs": [
    {
     "data": {
      "text/plain": [
       "RandomForestClassifier(bootstrap=True, class_weight=None, criterion='gini',\n",
       "                       max_depth=6, max_features=6, max_leaf_nodes=None,\n",
       "                       min_impurity_decrease=0.0, min_impurity_split=None,\n",
       "                       min_samples_leaf=10, min_samples_split=45,\n",
       "                       min_weight_fraction_leaf=0.0, n_estimators=51,\n",
       "                       n_jobs=None, oob_score=True, random_state=23, verbose=0,\n",
       "                       warm_start=False)"
      ]
     },
     "execution_count": 56,
     "metadata": {},
     "output_type": "execute_result"
    }
   ],
   "source": [
    "grid_search.best_estimator_"
   ]
  },
  {
   "cell_type": "code",
   "execution_count": 57,
   "metadata": {
    "id": "QrVH03iWtc_y"
   },
   "outputs": [],
   "source": [
    "ytrain_predict_rfc = best_grid_rfc.predict(X_train)\n",
    "ytest_predict_rfc = best_grid_rfc.predict(X_test)"
   ]
  },
  {
   "cell_type": "code",
   "execution_count": 58,
   "metadata": {
    "colab": {
     "base_uri": "https://localhost:8080/"
    },
    "id": "Yjrs39N32SOO",
    "outputId": "1532d397-74cd-4c6d-d478-48de78254e02"
   },
   "outputs": [
    {
     "name": "stdout",
     "output_type": "stream",
     "text": [
      "              precision    recall  f1-score   support\n",
      "\n",
      "           0       0.83      0.89      0.86      1343\n",
      "           1       0.73      0.62      0.67       659\n",
      "\n",
      "    accuracy                           0.80      2002\n",
      "   macro avg       0.78      0.75      0.76      2002\n",
      "weighted avg       0.79      0.80      0.80      2002\n",
      "\n"
     ]
    }
   ],
   "source": [
    "print(classification_report(y_train,ytrain_predict_rfc))"
   ]
  },
  {
   "cell_type": "code",
   "execution_count": 59,
   "metadata": {
    "colab": {
     "base_uri": "https://localhost:8080/"
    },
    "id": "tt4lL1vL4nXw",
    "outputId": "f419f03a-0eff-4d1f-bcd9-df0a9ea33d47"
   },
   "outputs": [
    {
     "name": "stdout",
     "output_type": "stream",
     "text": [
      "[[1193  150]\n",
      " [ 251  408]]\n"
     ]
    }
   ],
   "source": [
    "print(confusion_matrix(y_train,ytrain_predict_rfc))"
   ]
  },
  {
   "cell_type": "code",
   "execution_count": 60,
   "metadata": {
    "colab": {
     "base_uri": "https://localhost:8080/"
    },
    "id": "9tf5Gi9Rkfbb",
    "outputId": "c99616c5-043b-4e6f-f540-f35b14a30aa0"
   },
   "outputs": [
    {
     "name": "stdout",
     "output_type": "stream",
     "text": [
      "Accuracy 0.7997002997002997\n",
      "AUC: 0.850\n",
      "rfc_train_precision  0.73\n",
      "rfc_train_recall  0.62\n",
      "rfc_train_f1  0.67\n"
     ]
    }
   ],
   "source": [
    "rfc_train_acc = best_grid_rfc.score(X_train, y_train)\n",
    "probs_rfc = best_grid_rfc.predict_proba(X_train)[:, 1]\n",
    "rfc_train_auc = roc_auc_score(y_train, probs_rfc)\n",
    "print('Accuracy', rfc_train_acc)\n",
    "print('AUC: %.3f' % rfc_train_auc)\n",
    "rfc_metrics=classification_report(y_train,ytrain_predict_rfc,output_dict=True)\n",
    "data_rfc=pd.DataFrame(rfc_metrics).transpose()\n",
    "rfc_train_precision=round(data_rfc.loc[\"1\"][0],2)\n",
    "rfc_train_recall=round(data_rfc.loc[\"1\"][1],2)\n",
    "rfc_train_f1=round(data_rfc.loc[\"1\"][2],2)\n",
    "print ('rfc_train_precision ',rfc_train_precision)\n",
    "print ('rfc_train_recall ',rfc_train_recall)\n",
    "print ('rfc_train_f1 ',rfc_train_f1)"
   ]
  },
  {
   "cell_type": "code",
   "execution_count": 61,
   "metadata": {
    "colab": {
     "base_uri": "https://localhost:8080/"
    },
    "id": "SkIFCtL4kbpT",
    "outputId": "0e4e076f-13c7-4992-f923-3cf3c7f7d093"
   },
   "outputs": [
    {
     "name": "stdout",
     "output_type": "stream",
     "text": [
      "Accuracy 0.7785547785547785\n",
      "AUC: 0.813\n",
      "rfc_test_precision  0.64\n",
      "rfc_test_recall  0.57\n",
      "rfc_test_f1  0.6\n"
     ]
    }
   ],
   "source": [
    "rfc_test_acc = best_grid_rfc.score(X_test, y_test)\n",
    "probs_rfc = best_grid_rfc.predict_proba(X_test)[:, 1]\n",
    "rfc_test_auc = roc_auc_score(y_test, probs_rfc)\n",
    "print('Accuracy', rfc_test_acc)\n",
    "print('AUC: %.3f' % rfc_test_auc)\n",
    "rfc_metrics=classification_report(y_test,ytest_predict_rfc,output_dict=True)\n",
    "data_rfc=pd.DataFrame(rfc_metrics).transpose()\n",
    "rfc_test_precision=round(data_rfc.loc[\"1\"][0],2)\n",
    "rfc_test_recall=round(data_rfc.loc[\"1\"][1],2)\n",
    "rfc_test_f1=round(data_rfc.loc[\"1\"][2],2)\n",
    "print ('rfc_test_precision ',rfc_test_precision)\n",
    "print ('rfc_test_recall ',rfc_test_recall)\n",
    "print ('rfc_test_f1 ',rfc_test_f1)"
   ]
  },
  {
   "cell_type": "code",
   "execution_count": 62,
   "metadata": {
    "colab": {
     "base_uri": "https://localhost:8080/"
    },
    "id": "EIMt62Q_09Oe",
    "outputId": "09e3ceb5-0609-4071-a5a7-5eb35d8078ca"
   },
   "outputs": [
    {
     "name": "stdout",
     "output_type": "stream",
     "text": [
      "              precision    recall  f1-score   support\n",
      "\n",
      "           0       0.83      0.87      0.85       603\n",
      "           1       0.64      0.57      0.60       255\n",
      "\n",
      "    accuracy                           0.78       858\n",
      "   macro avg       0.74      0.72      0.73       858\n",
      "weighted avg       0.77      0.78      0.77       858\n",
      "\n"
     ]
    }
   ],
   "source": [
    "print(classification_report(y_test,ytest_predict_rfc))"
   ]
  },
  {
   "cell_type": "code",
   "execution_count": 63,
   "metadata": {
    "colab": {
     "base_uri": "https://localhost:8080/"
    },
    "id": "uPxixZig4iOb",
    "outputId": "4bd88ce0-baaa-4fa0-e9ec-1351c0fb6a01"
   },
   "outputs": [
    {
     "name": "stdout",
     "output_type": "stream",
     "text": [
      "[[523  80]\n",
      " [110 145]]\n"
     ]
    }
   ],
   "source": [
    "print(confusion_matrix(y_test,ytest_predict_rfc))"
   ]
  },
  {
   "cell_type": "code",
   "execution_count": 64,
   "metadata": {
    "colab": {
     "base_uri": "https://localhost:8080/"
    },
    "id": "rxmjBfVxfMJo",
    "outputId": "ee463f2e-1c1b-4902-f6a2-b5d4d5626ec1"
   },
   "outputs": [
    {
     "name": "stdout",
     "output_type": "stream",
     "text": [
      "RFC_precision  0.64\n",
      "RFC_recall  0.57\n",
      "RFC_f1  0.6\n"
     ]
    }
   ],
   "source": [
    "rfc_metrics=classification_report(y_test,ytest_predict_rfc,output_dict=True)\n",
    "data=pd.DataFrame(rfc_metrics).transpose()\n",
    "RFC_precision=round(data.loc[\"1\"][0],2)\n",
    "RFC_recall=round(data.loc[\"1\"][1],2)\n",
    "RFC_f1=round(data.loc[\"1\"][2],2)\n",
    "print ('RFC_precision ',RFC_precision)\n",
    "print ('RFC_recall ',RFC_recall)\n",
    "print ('RFC_f1 ',RFC_f1)"
   ]
  },
  {
   "cell_type": "code",
   "execution_count": 65,
   "metadata": {
    "colab": {
     "base_uri": "https://localhost:8080/",
     "height": 283
    },
    "id": "MWDMaby68qXK",
    "outputId": "63c801de-2139-4c0d-d566-f7d11b37f247"
   },
   "outputs": [
    {
     "name": "stdout",
     "output_type": "stream",
     "text": [
      "AUC: 0.850\n"
     ]
    },
    {
     "data": {
      "image/png": "[encoded data removed]",
      "text/plain": [
       "<Figure size 432x288 with 1 Axes>"
      ]
     },
     "metadata": {
      "needs_background": "light"
     },
     "output_type": "display_data"
    }
   ],
   "source": [
    "# predict probabilities\n",
    "RFprobs = best_grid_rfc.predict_proba(X_train)\n",
    "# keep probabilities for the positive outcome only\n",
    "RFprobs = RFprobs[:, 1]\n",
    "# calculate AUC\n",
    "from sklearn.metrics import roc_auc_score\n",
    "RFauc = roc_auc_score(y_train, RFprobs)\n",
    "print('AUC: %.3f' % RFauc)\n",
    "# calculate roc curve\n",
    "from sklearn.metrics import roc_curve\n",
    "fpr_rfc_train, tpr_rfc_train, thresholds = roc_curve(y_train, RFprobs)\n",
    "plt.plot([0, 1], [0, 1], linestyle='--')\n",
    "# plot the roc curve for the model\n",
    "plt.plot(fpr_rfc_train, tpr_rfc_train, marker='.')\n",
    "# show the plot\n",
    "plt.show()"
   ]
  },
  {
   "cell_type": "code",
   "execution_count": 66,
   "metadata": {
    "colab": {
     "base_uri": "https://localhost:8080/",
     "height": 283
    },
    "id": "PBd1egym9y9a",
    "outputId": "30166c24-d488-45ba-d8bf-d19e60602705"
   },
   "outputs": [
    {
     "name": "stdout",
     "output_type": "stream",
     "text": [
      "AUC: 0.813\n"
     ]
    },
    {
     "data": {
      "image/png": "[encoded data removed]",
      "text/plain": [
       "<Figure size 432x288 with 1 Axes>"
      ]
     },
     "metadata": {
      "needs_background": "light"
     },
     "output_type": "display_data"
    }
   ],
   "source": [
    "# predict probabilities\n",
    "RFprobs = best_grid_rfc.predict_proba(X_test)\n",
    "# keep probabilities for the positive outcome only\n",
    "RFprobs = RFprobs[:, 1]\n",
    "# calculate AUC\n",
    "from sklearn.metrics import roc_auc_score\n",
    "RFauc = roc_auc_score(y_test, RFprobs)\n",
    "print('AUC: %.3f' % RFauc)\n",
    "# calculate roc curve\n",
    "from sklearn.metrics import roc_curve\n",
    "fpr_rfc_test, tpr_rfc_test, thresholds = roc_curve(y_test, RFprobs)\n",
    "plt.plot([0, 1], [0, 1], linestyle='--')\n",
    "# plot the roc curve for the model\n",
    "plt.plot(fpr_rfc_test, tpr_rfc_test, marker='.')\n",
    "# show the plot\n",
    "plt.show()"
   ]
  },
  {
   "cell_type": "markdown",
   "metadata": {
    "id": "79zq_CBaxfyk"
   },
   "source": [
    "**Neural Network**"
   ]
  },
  {
   "cell_type": "code",
   "execution_count": 67,
   "metadata": {
    "id": "1a8lOXe0t5Mt"
   },
   "outputs": [],
   "source": [
    "from sklearn.preprocessing import StandardScaler \n",
    "sc = StandardScaler() \n",
    "X_trains = sc.fit_transform(X_train) \n",
    "X_tests = sc.transform (X_test)"
   ]
  },
  {
   "cell_type": "code",
   "execution_count": 68,
   "metadata": {
    "id": "EUTYLlpQu6v7"
   },
   "outputs": [],
   "source": [
    "from sklearn.neural_network import MLPClassifier"
   ]
  },
  {
   "cell_type": "code",
   "execution_count": 69,
   "metadata": {
    "id": "XLNqB2ViuiO5"
   },
   "outputs": [],
   "source": [
    "param_grid = {\n",
    "    'hidden_layer_sizes': [(100,100,100)],\n",
    "    'activation': ['logistic', 'relu'],\n",
    "    'solver': ['sgd', 'adam'],\n",
    "    'tol': [0.01,0.001],\n",
    "    'max_iter' : [10000]\n",
    "}\n",
    "\n",
    "ann = MLPClassifier(random_state=1, verbose=True)\n",
    "\n",
    "grid_search = GridSearchCV(estimator = ann, param_grid = param_grid, cv = 3)"
   ]
  },
  {
   "cell_type": "code",
   "execution_count": 70,
   "metadata": {
    "colab": {
     "base_uri": "https://localhost:8080/"
    },
    "id": "36zHIiDru2zF",
    "outputId": "2cb8474e-e912-4ae1-f974-af8053180636"
   },
   "outputs": [
    {
     "name": "stdout",
     "output_type": "stream",
     "text": [
      "Iteration 1, loss = 0.79964022\n",
      "Iteration 2, loss = 0.72727240\n",
      "Iteration 3, loss = 0.66880964\n",
      "Iteration 4, loss = 0.64114820\n",
      "Iteration 5, loss = 0.63451073\n",
      "Iteration 6, loss = 0.63367074\n",
      "Iteration 7, loss = 0.63379348\n",
      "Iteration 8, loss = 0.63381568\n",
      "Iteration 9, loss = 0.63356639\n",
      "Iteration 10, loss = 0.63337428\n",
      "Iteration 11, loss = 0.63329535\n",
      "Iteration 12, loss = 0.63321402\n",
      "Iteration 13, loss = 0.63323799\n",
      "Iteration 14, loss = 0.63320480\n",
      "Iteration 15, loss = 0.63325546\n",
      "Training loss did not improve more than tol=0.010000 for 10 consecutive epochs. Stopping.\n",
      "Iteration 1, loss = 0.79941607\n",
      "Iteration 2, loss = 0.72719564\n",
      "Iteration 3, loss = 0.67018087\n",
      "Iteration 4, loss = 0.64143857\n",
      "Iteration 5, loss = 0.63396596\n",
      "Iteration 6, loss = 0.63339651\n",
      "Iteration 7, loss = 0.63379286\n",
      "Iteration 8, loss = 0.63379843\n",
      "Iteration 9, loss = 0.63357590\n",
      "Iteration 10, loss = 0.63332557\n",
      "Iteration 11, loss = 0.63325441\n",
      "Iteration 12, loss = 0.63320782\n",
      "Iteration 13, loss = 0.63321797\n",
      "Iteration 14, loss = 0.63326175\n",
      "Iteration 15, loss = 0.63322387\n",
      "Training loss did not improve more than tol=0.010000 for 10 consecutive epochs. Stopping.\n",
      "Iteration 1, loss = 0.79919130\n",
      "Iteration 2, loss = 0.72812749\n",
      "Iteration 3, loss = 0.66992758\n",
      "Iteration 4, loss = 0.64160870\n",
      "Iteration 5, loss = 0.63369865\n",
      "Iteration 6, loss = 0.63335354\n",
      "Iteration 7, loss = 0.63409653\n",
      "Iteration 8, loss = 0.63392631\n",
      "Iteration 9, loss = 0.63366892\n",
      "Iteration 10, loss = 0.63348541\n",
      "Iteration 11, loss = 0.63361036\n",
      "Iteration 12, loss = 0.63340776\n",
      "Iteration 13, loss = 0.63336804\n",
      "Iteration 14, loss = 0.63340107\n",
      "Iteration 15, loss = 0.63339203\n",
      "Training loss did not improve more than tol=0.010000 for 10 consecutive epochs. Stopping.\n",
      "Iteration 1, loss = 0.79964022\n",
      "Iteration 2, loss = 0.72727240\n",
      "Iteration 3, loss = 0.66880964\n",
      "Iteration 4, loss = 0.64114820\n",
      "Iteration 5, loss = 0.63451073\n",
      "Iteration 6, loss = 0.63367074\n",
      "Iteration 7, loss = 0.63379348\n",
      "Iteration 8, loss = 0.63381568\n",
      "Iteration 9, loss = 0.63356639\n",
      "Iteration 10, loss = 0.63337428\n",
      "Iteration 11, loss = 0.63329535\n",
      "Iteration 12, loss = 0.63321402\n",
      "Iteration 13, loss = 0.63323799\n",
      "Iteration 14, loss = 0.63320480\n",
      "Iteration 15, loss = 0.63325546\n",
      "Iteration 16, loss = 0.63320900\n",
      "Training loss did not improve more than tol=0.001000 for 10 consecutive epochs. Stopping.\n",
      "Iteration 1, loss = 0.79941607\n",
      "Iteration 2, loss = 0.72719564\n",
      "Iteration 3, loss = 0.67018087\n",
      "Iteration 4, loss = 0.64143857\n",
      "Iteration 5, loss = 0.63396596\n",
      "Iteration 6, loss = 0.63339651\n",
      "Iteration 7, loss = 0.63379286\n",
      "Iteration 8, loss = 0.63379843\n",
      "Iteration 9, loss = 0.63357590\n",
      "Iteration 10, loss = 0.63332557\n",
      "Iteration 11, loss = 0.63325441\n",
      "Iteration 12, loss = 0.63320782\n",
      "Iteration 13, loss = 0.63321797\n",
      "Iteration 14, loss = 0.63326175\n",
      "Iteration 15, loss = 0.63322387\n",
      "Iteration 16, loss = 0.63326565\n",
      "Training loss did not improve more than tol=0.001000 for 10 consecutive epochs. Stopping.\n",
      "Iteration 1, loss = 0.79919130\n",
      "Iteration 2, loss = 0.72812749\n",
      "Iteration 3, loss = 0.66992758\n",
      "Iteration 4, loss = 0.64160870\n",
      "Iteration 5, loss = 0.63369865\n",
      "Iteration 6, loss = 0.63335354\n",
      "Iteration 7, loss = 0.63409653\n",
      "Iteration 8, loss = 0.63392631\n",
      "Iteration 9, loss = 0.63366892\n",
      "Iteration 10, loss = 0.63348541\n",
      "Iteration 11, loss = 0.63361036\n",
      "Iteration 12, loss = 0.63340776\n",
      "Iteration 13, loss = 0.63336804\n",
      "Iteration 14, loss = 0.63340107\n",
      "Iteration 15, loss = 0.63339203\n",
      "Iteration 16, loss = 0.63341260\n",
      "Training loss did not improve more than tol=0.001000 for 10 consecutive epochs. Stopping.\n",
      "Iteration 1, loss = 0.72673411\n",
      "Iteration 2, loss = 0.63617151\n",
      "Iteration 3, loss = 0.64393001\n",
      "Iteration 4, loss = 0.63539152\n",
      "Iteration 5, loss = 0.63054522\n",
      "Iteration 6, loss = 0.63065443\n",
      "Iteration 7, loss = 0.62791038\n",
      "Iteration 8, loss = 0.62618926\n",
      "Iteration 9, loss = 0.62396229\n",
      "Iteration 10, loss = 0.62080112\n",
      "Iteration 11, loss = 0.61708726\n",
      "Iteration 12, loss = 0.61189387\n",
      "Iteration 13, loss = 0.60575750\n",
      "Training loss did not improve more than tol=0.010000 for 10 consecutive epochs. Stopping.\n",
      "Iteration 1, loss = 0.72377240\n",
      "Iteration 2, loss = 0.63603075\n",
      "Iteration 3, loss = 0.64668563\n",
      "Iteration 4, loss = 0.63535987\n",
      "Iteration 5, loss = 0.63132130\n",
      "Iteration 6, loss = 0.63131546\n",
      "Iteration 7, loss = 0.62829109\n",
      "Iteration 8, loss = 0.62682426\n",
      "Iteration 9, loss = 0.62438909\n",
      "Iteration 10, loss = 0.62141026\n",
      "Iteration 11, loss = 0.61813134\n",
      "Iteration 12, loss = 0.61372148\n",
      "Iteration 13, loss = 0.60719045\n",
      "Training loss did not improve more than tol=0.010000 for 10 consecutive epochs. Stopping.\n",
      "Iteration 1, loss = 0.71772358\n",
      "Iteration 2, loss = 0.63874401\n",
      "Iteration 3, loss = 0.64830907\n",
      "Iteration 4, loss = 0.63428539\n",
      "Iteration 5, loss = 0.63299406\n",
      "Iteration 6, loss = 0.63195541\n",
      "Iteration 7, loss = 0.62986937\n",
      "Iteration 8, loss = 0.62665923\n",
      "Iteration 9, loss = 0.62389145\n",
      "Iteration 10, loss = 0.62074164\n",
      "Iteration 11, loss = 0.61737629\n",
      "Iteration 12, loss = 0.61132958\n",
      "Iteration 13, loss = 0.60514942\n",
      "Training loss did not improve more than tol=0.010000 for 10 consecutive epochs. Stopping.\n",
      "Iteration 1, loss = 0.72673411\n",
      "Iteration 2, loss = 0.63617151\n",
      "Iteration 3, loss = 0.64393001\n",
      "Iteration 4, loss = 0.63539152\n",
      "Iteration 5, loss = 0.63054522\n",
      "Iteration 6, loss = 0.63065443\n",
      "Iteration 7, loss = 0.62791038\n",
      "Iteration 8, loss = 0.62618926\n",
      "Iteration 9, loss = 0.62396229\n",
      "Iteration 10, loss = 0.62080112\n",
      "Iteration 11, loss = 0.61708726\n",
      "Iteration 12, loss = 0.61189387\n",
      "Iteration 13, loss = 0.60575750\n",
      "Iteration 14, loss = 0.59725484\n",
      "Iteration 15, loss = 0.58785595\n",
      "Iteration 16, loss = 0.57677639\n",
      "Iteration 17, loss = 0.56528889\n",
      "Iteration 18, loss = 0.55457069\n",
      "Iteration 19, loss = 0.54393422\n",
      "Iteration 20, loss = 0.53585988\n",
      "Iteration 21, loss = 0.53061247\n",
      "Iteration 22, loss = 0.52649387\n",
      "Iteration 23, loss = 0.52572963\n",
      "Iteration 24, loss = 0.52356829\n",
      "Iteration 25, loss = 0.52268547\n",
      "Iteration 26, loss = 0.52196833\n",
      "Iteration 27, loss = 0.52154902\n",
      "Iteration 28, loss = 0.52154858\n",
      "Iteration 29, loss = 0.52121823\n",
      "Iteration 30, loss = 0.52049129\n",
      "Iteration 31, loss = 0.52066929\n",
      "Iteration 32, loss = 0.52086641\n",
      "Iteration 33, loss = 0.52090587\n",
      "Iteration 34, loss = 0.51914267\n",
      "Iteration 35, loss = 0.52025930\n",
      "Iteration 36, loss = 0.51929952\n",
      "Iteration 37, loss = 0.51968306\n",
      "Iteration 38, loss = 0.51920132\n",
      "Iteration 39, loss = 0.51955710\n",
      "Iteration 40, loss = 0.51837068\n",
      "Iteration 41, loss = 0.51973876\n",
      "Iteration 42, loss = 0.51874143\n",
      "Iteration 43, loss = 0.51845360\n",
      "Iteration 44, loss = 0.51905321\n",
      "Iteration 45, loss = 0.51864066\n",
      "Training loss did not improve more than tol=0.001000 for 10 consecutive epochs. Stopping.\n",
      "Iteration 1, loss = 0.72377240\n",
      "Iteration 2, loss = 0.63603075\n",
      "Iteration 3, loss = 0.64668563\n",
      "Iteration 4, loss = 0.63535987\n",
      "Iteration 5, loss = 0.63132130\n",
      "Iteration 6, loss = 0.63131546\n",
      "Iteration 7, loss = 0.62829109\n",
      "Iteration 8, loss = 0.62682426\n",
      "Iteration 9, loss = 0.62438909\n",
      "Iteration 10, loss = 0.62141026\n",
      "Iteration 11, loss = 0.61813134\n",
      "Iteration 12, loss = 0.61372148\n",
      "Iteration 13, loss = 0.60719045\n",
      "Iteration 14, loss = 0.59938846\n",
      "Iteration 15, loss = 0.59024436\n",
      "Iteration 16, loss = 0.57977193\n",
      "Iteration 17, loss = 0.56761227\n",
      "Iteration 18, loss = 0.55510193\n",
      "Iteration 19, loss = 0.54524412\n",
      "Iteration 20, loss = 0.53519800\n",
      "Iteration 21, loss = 0.52919870\n",
      "Iteration 22, loss = 0.52485432\n",
      "Iteration 23, loss = 0.52195788\n",
      "Iteration 24, loss = 0.52022566\n",
      "Iteration 25, loss = 0.51835781\n",
      "Iteration 26, loss = 0.51767390\n",
      "Iteration 27, loss = 0.51777821\n",
      "Iteration 28, loss = 0.51668392\n",
      "Iteration 29, loss = 0.51629080\n",
      "Iteration 30, loss = 0.51570303\n",
      "Iteration 31, loss = 0.51519008\n",
      "Iteration 32, loss = 0.51500135\n",
      "Iteration 33, loss = 0.51417989\n",
      "Iteration 34, loss = 0.51396780\n",
      "Iteration 35, loss = 0.51390821\n",
      "Iteration 36, loss = 0.51395538\n",
      "Training loss did not improve more than tol=0.001000 for 10 consecutive epochs. Stopping.\n",
      "Iteration 1, loss = 0.71772358\n",
      "Iteration 2, loss = 0.63874401\n",
      "Iteration 3, loss = 0.64830907\n",
      "Iteration 4, loss = 0.63428539\n",
      "Iteration 5, loss = 0.63299406\n",
      "Iteration 6, loss = 0.63195541\n",
      "Iteration 7, loss = 0.62986937\n",
      "Iteration 8, loss = 0.62665923\n",
      "Iteration 9, loss = 0.62389145\n",
      "Iteration 10, loss = 0.62074164\n",
      "Iteration 11, loss = 0.61737629\n",
      "Iteration 12, loss = 0.61132958\n",
      "Iteration 13, loss = 0.60514942\n",
      "Iteration 14, loss = 0.59650196\n",
      "Iteration 15, loss = 0.58575019\n",
      "Iteration 16, loss = 0.57386843\n",
      "Iteration 17, loss = 0.56102908\n",
      "Iteration 18, loss = 0.54690484\n",
      "Iteration 19, loss = 0.53633315\n",
      "Iteration 20, loss = 0.52699637\n",
      "Iteration 21, loss = 0.52050472\n",
      "Iteration 22, loss = 0.51694298\n",
      "Iteration 23, loss = 0.51489629\n",
      "Iteration 24, loss = 0.51417353\n",
      "Iteration 25, loss = 0.51282021\n",
      "Iteration 26, loss = 0.51345035\n"
     ]
    },
    {
     "name": "stdout",
     "output_type": "stream",
     "text": [
      "Iteration 27, loss = 0.51314462\n",
      "Iteration 28, loss = 0.51114367\n",
      "Iteration 29, loss = 0.51147956\n",
      "Iteration 30, loss = 0.51035971\n",
      "Iteration 31, loss = 0.51057435\n",
      "Iteration 32, loss = 0.50954772\n",
      "Iteration 33, loss = 0.50922941\n",
      "Iteration 34, loss = 0.50897674\n",
      "Iteration 35, loss = 0.50860634\n",
      "Iteration 36, loss = 0.50863859\n",
      "Iteration 37, loss = 0.50777128\n",
      "Iteration 38, loss = 0.50819993\n",
      "Iteration 39, loss = 0.50760374\n",
      "Training loss did not improve more than tol=0.001000 for 10 consecutive epochs. Stopping.\n",
      "Iteration 1, loss = 0.68528434\n",
      "Iteration 2, loss = 0.67472651\n",
      "Iteration 3, loss = 0.66114411\n",
      "Iteration 4, loss = 0.64757676\n",
      "Iteration 5, loss = 0.63581129\n",
      "Iteration 6, loss = 0.62526102\n",
      "Iteration 7, loss = 0.61617666\n",
      "Iteration 8, loss = 0.60885381\n",
      "Iteration 9, loss = 0.60250731\n",
      "Iteration 10, loss = 0.59703583\n",
      "Iteration 11, loss = 0.59196939\n",
      "Iteration 12, loss = 0.58763068\n",
      "Iteration 13, loss = 0.58375995\n",
      "Iteration 14, loss = 0.58008061\n",
      "Iteration 15, loss = 0.57692730\n",
      "Iteration 16, loss = 0.57381862\n",
      "Iteration 17, loss = 0.57102563\n",
      "Training loss did not improve more than tol=0.010000 for 10 consecutive epochs. Stopping.\n",
      "Iteration 1, loss = 0.68441208\n",
      "Iteration 2, loss = 0.67365111\n",
      "Iteration 3, loss = 0.66012575\n",
      "Iteration 4, loss = 0.64611930\n",
      "Iteration 5, loss = 0.63403087\n",
      "Iteration 6, loss = 0.62336101\n",
      "Iteration 7, loss = 0.61445704\n",
      "Iteration 8, loss = 0.60699299\n",
      "Iteration 9, loss = 0.60057763\n",
      "Iteration 10, loss = 0.59490093\n",
      "Iteration 11, loss = 0.58991862\n",
      "Iteration 12, loss = 0.58558113\n",
      "Iteration 13, loss = 0.58142678\n",
      "Iteration 14, loss = 0.57784881\n",
      "Iteration 15, loss = 0.57442905\n",
      "Iteration 16, loss = 0.57124106\n",
      "Iteration 17, loss = 0.56827720\n",
      "Training loss did not improve more than tol=0.010000 for 10 consecutive epochs. Stopping.\n",
      "Iteration 1, loss = 0.68464292\n",
      "Iteration 2, loss = 0.67394152\n",
      "Iteration 3, loss = 0.65993088\n",
      "Iteration 4, loss = 0.64577732\n",
      "Iteration 5, loss = 0.63337649\n",
      "Iteration 6, loss = 0.62262898\n",
      "Iteration 7, loss = 0.61390793\n",
      "Iteration 8, loss = 0.60548216\n",
      "Iteration 9, loss = 0.59900881\n",
      "Iteration 10, loss = 0.59316384\n",
      "Iteration 11, loss = 0.58777953\n",
      "Iteration 12, loss = 0.58316898\n",
      "Iteration 13, loss = 0.57903704\n",
      "Iteration 14, loss = 0.57521383\n",
      "Iteration 15, loss = 0.57167198\n",
      "Iteration 16, loss = 0.56837877\n",
      "Iteration 17, loss = 0.56525571\n",
      "Training loss did not improve more than tol=0.010000 for 10 consecutive epochs. Stopping.\n",
      "Iteration 1, loss = 0.68528434\n",
      "Iteration 2, loss = 0.67472651\n",
      "Iteration 3, loss = 0.66114411\n",
      "Iteration 4, loss = 0.64757676\n",
      "Iteration 5, loss = 0.63581129\n",
      "Iteration 6, loss = 0.62526102\n",
      "Iteration 7, loss = 0.61617666\n",
      "Iteration 8, loss = 0.60885381\n",
      "Iteration 9, loss = 0.60250731\n",
      "Iteration 10, loss = 0.59703583\n",
      "Iteration 11, loss = 0.59196939\n",
      "Iteration 12, loss = 0.58763068\n",
      "Iteration 13, loss = 0.58375995\n",
      "Iteration 14, loss = 0.58008061\n",
      "Iteration 15, loss = 0.57692730\n",
      "Iteration 16, loss = 0.57381862\n",
      "Iteration 17, loss = 0.57102563\n",
      "Iteration 18, loss = 0.56826264\n",
      "Iteration 19, loss = 0.56581779\n",
      "Iteration 20, loss = 0.56337224\n",
      "Iteration 21, loss = 0.56120848\n",
      "Iteration 22, loss = 0.55898290\n",
      "Iteration 23, loss = 0.55700936\n",
      "Iteration 24, loss = 0.55510044\n",
      "Iteration 25, loss = 0.55322975\n",
      "Iteration 26, loss = 0.55153643\n",
      "Iteration 27, loss = 0.54992747\n",
      "Iteration 28, loss = 0.54834034\n",
      "Iteration 29, loss = 0.54693910\n",
      "Iteration 30, loss = 0.54548600\n",
      "Iteration 31, loss = 0.54418232\n",
      "Iteration 32, loss = 0.54292569\n",
      "Iteration 33, loss = 0.54178578\n",
      "Iteration 34, loss = 0.54067298\n",
      "Iteration 35, loss = 0.53957293\n",
      "Iteration 36, loss = 0.53859459\n",
      "Iteration 37, loss = 0.53769888\n",
      "Iteration 38, loss = 0.53678867\n",
      "Iteration 39, loss = 0.53598045\n",
      "Iteration 40, loss = 0.53509653\n",
      "Iteration 41, loss = 0.53436180\n",
      "Iteration 42, loss = 0.53360069\n",
      "Iteration 43, loss = 0.53288632\n",
      "Iteration 44, loss = 0.53227357\n",
      "Iteration 45, loss = 0.53161553\n",
      "Iteration 46, loss = 0.53100712\n",
      "Training loss did not improve more than tol=0.001000 for 10 consecutive epochs. Stopping.\n",
      "Iteration 1, loss = 0.68441208\n",
      "Iteration 2, loss = 0.67365111\n",
      "Iteration 3, loss = 0.66012575\n",
      "Iteration 4, loss = 0.64611930\n",
      "Iteration 5, loss = 0.63403087\n",
      "Iteration 6, loss = 0.62336101\n",
      "Iteration 7, loss = 0.61445704\n",
      "Iteration 8, loss = 0.60699299\n",
      "Iteration 9, loss = 0.60057763\n",
      "Iteration 10, loss = 0.59490093\n",
      "Iteration 11, loss = 0.58991862\n",
      "Iteration 12, loss = 0.58558113\n",
      "Iteration 13, loss = 0.58142678\n",
      "Iteration 14, loss = 0.57784881\n",
      "Iteration 15, loss = 0.57442905\n",
      "Iteration 16, loss = 0.57124106\n",
      "Iteration 17, loss = 0.56827720\n",
      "Iteration 18, loss = 0.56541607\n",
      "Iteration 19, loss = 0.56293535\n",
      "Iteration 20, loss = 0.56027793\n",
      "Iteration 21, loss = 0.55797076\n",
      "Iteration 22, loss = 0.55573938\n",
      "Iteration 23, loss = 0.55362317\n",
      "Iteration 24, loss = 0.55159996\n",
      "Iteration 25, loss = 0.54957654\n",
      "Iteration 26, loss = 0.54781589\n",
      "Iteration 27, loss = 0.54609196\n",
      "Iteration 28, loss = 0.54444268\n",
      "Iteration 29, loss = 0.54289927\n",
      "Iteration 30, loss = 0.54146909\n",
      "Iteration 31, loss = 0.53996435\n",
      "Iteration 32, loss = 0.53865395\n",
      "Iteration 33, loss = 0.53739286\n",
      "Iteration 34, loss = 0.53626949\n",
      "Iteration 35, loss = 0.53510756\n",
      "Iteration 36, loss = 0.53400326\n",
      "Iteration 37, loss = 0.53306306\n",
      "Iteration 38, loss = 0.53209781\n",
      "Iteration 39, loss = 0.53115769\n",
      "Iteration 40, loss = 0.53023731\n",
      "Iteration 41, loss = 0.52939864\n",
      "Iteration 42, loss = 0.52866180\n",
      "Iteration 43, loss = 0.52784353\n",
      "Iteration 44, loss = 0.52721385\n",
      "Iteration 45, loss = 0.52640863\n",
      "Iteration 46, loss = 0.52577664\n",
      "Iteration 47, loss = 0.52520550\n",
      "Training loss did not improve more than tol=0.001000 for 10 consecutive epochs. Stopping.\n",
      "Iteration 1, loss = 0.68464292\n",
      "Iteration 2, loss = 0.67394152\n",
      "Iteration 3, loss = 0.65993088\n",
      "Iteration 4, loss = 0.64577732\n",
      "Iteration 5, loss = 0.63337649\n",
      "Iteration 6, loss = 0.62262898\n",
      "Iteration 7, loss = 0.61390793\n",
      "Iteration 8, loss = 0.60548216\n",
      "Iteration 9, loss = 0.59900881\n",
      "Iteration 10, loss = 0.59316384\n",
      "Iteration 11, loss = 0.58777953\n",
      "Iteration 12, loss = 0.58316898\n",
      "Iteration 13, loss = 0.57903704\n",
      "Iteration 14, loss = 0.57521383\n",
      "Iteration 15, loss = 0.57167198\n",
      "Iteration 16, loss = 0.56837877\n",
      "Iteration 17, loss = 0.56525571\n",
      "Iteration 18, loss = 0.56233541\n",
      "Iteration 19, loss = 0.55974552\n",
      "Iteration 20, loss = 0.55717027\n",
      "Iteration 21, loss = 0.55465045\n",
      "Iteration 22, loss = 0.55239938\n",
      "Iteration 23, loss = 0.55019699\n",
      "Iteration 24, loss = 0.54819134\n",
      "Iteration 25, loss = 0.54612253\n",
      "Iteration 26, loss = 0.54427292\n",
      "Iteration 27, loss = 0.54259679\n",
      "Iteration 28, loss = 0.54090512\n",
      "Iteration 29, loss = 0.53933823\n",
      "Iteration 30, loss = 0.53787673\n",
      "Iteration 31, loss = 0.53644345\n",
      "Iteration 32, loss = 0.53511780\n",
      "Iteration 33, loss = 0.53395890\n",
      "Iteration 34, loss = 0.53276842\n",
      "Iteration 35, loss = 0.53170315\n",
      "Iteration 36, loss = 0.53061275\n",
      "Iteration 37, loss = 0.52965927\n",
      "Iteration 38, loss = 0.52867286\n",
      "Iteration 39, loss = 0.52784208\n",
      "Iteration 40, loss = 0.52700549\n",
      "Iteration 41, loss = 0.52622158\n",
      "Iteration 42, loss = 0.52547665\n",
      "Iteration 43, loss = 0.52481720\n",
      "Iteration 44, loss = 0.52414672\n",
      "Iteration 45, loss = 0.52357346\n",
      "Iteration 46, loss = 0.52295766\n",
      "Iteration 47, loss = 0.52243055\n",
      "Training loss did not improve more than tol=0.001000 for 10 consecutive epochs. Stopping.\n",
      "Iteration 1, loss = 0.62910102\n",
      "Iteration 2, loss = 0.54670807\n",
      "Iteration 3, loss = 0.52687918\n",
      "Iteration 4, loss = 0.52059320\n",
      "Iteration 5, loss = 0.51459248\n",
      "Iteration 6, loss = 0.51131079\n",
      "Iteration 7, loss = 0.50845860\n",
      "Iteration 8, loss = 0.50663350\n",
      "Iteration 9, loss = 0.50322945\n",
      "Iteration 10, loss = 0.50101533\n",
      "Iteration 11, loss = 0.49943674\n",
      "Iteration 12, loss = 0.49724966\n",
      "Iteration 13, loss = 0.49451478\n",
      "Iteration 14, loss = 0.49263281\n",
      "Training loss did not improve more than tol=0.010000 for 10 consecutive epochs. Stopping.\n",
      "Iteration 1, loss = 0.62421892\n",
      "Iteration 2, loss = 0.54153363\n",
      "Iteration 3, loss = 0.52050876\n",
      "Iteration 4, loss = 0.51335525\n",
      "Iteration 5, loss = 0.50411625\n",
      "Iteration 6, loss = 0.50136124\n",
      "Iteration 7, loss = 0.49691533\n",
      "Iteration 8, loss = 0.49316256\n",
      "Iteration 9, loss = 0.49020598\n",
      "Iteration 10, loss = 0.48594876\n",
      "Iteration 11, loss = 0.48328780\n",
      "Iteration 12, loss = 0.48065945\n",
      "Iteration 13, loss = 0.47785207\n",
      "Iteration 14, loss = 0.47642320\n",
      "Training loss did not improve more than tol=0.010000 for 10 consecutive epochs. Stopping.\n",
      "Iteration 1, loss = 0.62118728\n",
      "Iteration 2, loss = 0.54118025\n",
      "Iteration 3, loss = 0.51814706\n"
     ]
    },
    {
     "name": "stdout",
     "output_type": "stream",
     "text": [
      "Iteration 4, loss = 0.51273604\n",
      "Iteration 5, loss = 0.50665359\n",
      "Iteration 6, loss = 0.50221840\n",
      "Iteration 7, loss = 0.49831239\n",
      "Iteration 8, loss = 0.49802131\n",
      "Iteration 9, loss = 0.49113422\n",
      "Iteration 10, loss = 0.48878168\n",
      "Iteration 11, loss = 0.48705333\n",
      "Iteration 12, loss = 0.48307599\n",
      "Iteration 13, loss = 0.47964679\n",
      "Iteration 14, loss = 0.47876739\n",
      "Training loss did not improve more than tol=0.010000 for 10 consecutive epochs. Stopping.\n",
      "Iteration 1, loss = 0.62910102\n",
      "Iteration 2, loss = 0.54670807\n",
      "Iteration 3, loss = 0.52687918\n",
      "Iteration 4, loss = 0.52059320\n",
      "Iteration 5, loss = 0.51459248\n",
      "Iteration 6, loss = 0.51131079\n",
      "Iteration 7, loss = 0.50845860\n",
      "Iteration 8, loss = 0.50663350\n",
      "Iteration 9, loss = 0.50322945\n",
      "Iteration 10, loss = 0.50101533\n",
      "Iteration 11, loss = 0.49943674\n",
      "Iteration 12, loss = 0.49724966\n",
      "Iteration 13, loss = 0.49451478\n",
      "Iteration 14, loss = 0.49263281\n",
      "Iteration 15, loss = 0.49098802\n",
      "Iteration 16, loss = 0.48924894\n",
      "Iteration 17, loss = 0.48676496\n",
      "Iteration 18, loss = 0.48715201\n",
      "Iteration 19, loss = 0.48487166\n",
      "Iteration 20, loss = 0.48275316\n",
      "Iteration 21, loss = 0.48342055\n",
      "Iteration 22, loss = 0.47892664\n",
      "Iteration 23, loss = 0.47925782\n",
      "Iteration 24, loss = 0.47792312\n",
      "Iteration 25, loss = 0.47640528\n",
      "Iteration 26, loss = 0.47481525\n",
      "Iteration 27, loss = 0.47402184\n",
      "Iteration 28, loss = 0.47300592\n",
      "Iteration 29, loss = 0.47149308\n",
      "Iteration 30, loss = 0.46893819\n",
      "Iteration 31, loss = 0.46780498\n",
      "Iteration 32, loss = 0.46954338\n",
      "Iteration 33, loss = 0.46756905\n",
      "Iteration 34, loss = 0.46492488\n",
      "Iteration 35, loss = 0.46510041\n",
      "Iteration 36, loss = 0.46257873\n",
      "Iteration 37, loss = 0.46394672\n",
      "Iteration 38, loss = 0.46377732\n",
      "Iteration 39, loss = 0.46220681\n",
      "Iteration 40, loss = 0.45969688\n",
      "Iteration 41, loss = 0.45688888\n",
      "Iteration 42, loss = 0.45586481\n",
      "Iteration 43, loss = 0.45443712\n",
      "Iteration 44, loss = 0.45776905\n",
      "Iteration 45, loss = 0.45599626\n",
      "Iteration 46, loss = 0.45233935\n",
      "Iteration 47, loss = 0.45292596\n",
      "Iteration 48, loss = 0.45363133\n",
      "Iteration 49, loss = 0.44881124\n",
      "Iteration 50, loss = 0.44838699\n",
      "Iteration 51, loss = 0.44685430\n",
      "Iteration 52, loss = 0.44372909\n",
      "Iteration 53, loss = 0.44319432\n",
      "Iteration 54, loss = 0.44413023\n",
      "Iteration 55, loss = 0.44313229\n",
      "Iteration 56, loss = 0.44042950\n",
      "Iteration 57, loss = 0.44303515\n",
      "Iteration 58, loss = 0.43629286\n",
      "Iteration 59, loss = 0.43614144\n",
      "Iteration 60, loss = 0.43567582\n",
      "Iteration 61, loss = 0.43315887\n",
      "Iteration 62, loss = 0.43548406\n",
      "Iteration 63, loss = 0.43312131\n",
      "Iteration 64, loss = 0.43118120\n",
      "Iteration 65, loss = 0.42769935\n",
      "Iteration 66, loss = 0.42846102\n",
      "Iteration 67, loss = 0.42757343\n",
      "Iteration 68, loss = 0.43548458\n",
      "Iteration 69, loss = 0.42445861\n",
      "Iteration 70, loss = 0.42711876\n",
      "Iteration 71, loss = 0.42529313\n",
      "Iteration 72, loss = 0.42135398\n",
      "Iteration 73, loss = 0.42423374\n",
      "Iteration 74, loss = 0.42091210\n",
      "Iteration 75, loss = 0.41893066\n",
      "Iteration 76, loss = 0.41807498\n",
      "Iteration 77, loss = 0.41532081\n",
      "Iteration 78, loss = 0.41626786\n",
      "Iteration 79, loss = 0.41822758\n",
      "Iteration 80, loss = 0.41269486\n",
      "Iteration 81, loss = 0.41406278\n",
      "Iteration 82, loss = 0.41361097\n",
      "Iteration 83, loss = 0.41031602\n",
      "Iteration 84, loss = 0.40833192\n",
      "Iteration 85, loss = 0.40839180\n",
      "Iteration 86, loss = 0.40696664\n",
      "Iteration 87, loss = 0.40427208\n",
      "Iteration 88, loss = 0.40754414\n",
      "Iteration 89, loss = 0.40534563\n",
      "Iteration 90, loss = 0.40415033\n",
      "Iteration 91, loss = 0.40117639\n",
      "Iteration 92, loss = 0.40121984\n",
      "Iteration 93, loss = 0.40497062\n",
      "Iteration 94, loss = 0.40491411\n",
      "Iteration 95, loss = 0.39865448\n",
      "Iteration 96, loss = 0.39790154\n",
      "Iteration 97, loss = 0.39518792\n",
      "Iteration 98, loss = 0.39885089\n",
      "Iteration 99, loss = 0.39459691\n",
      "Iteration 100, loss = 0.38845059\n",
      "Iteration 101, loss = 0.39636669\n",
      "Iteration 102, loss = 0.38943413\n",
      "Iteration 103, loss = 0.39298911\n",
      "Iteration 104, loss = 0.39377989\n",
      "Iteration 105, loss = 0.38944413\n",
      "Iteration 106, loss = 0.39761536\n",
      "Iteration 107, loss = 0.38776099\n",
      "Iteration 108, loss = 0.38581519\n",
      "Iteration 109, loss = 0.38546449\n",
      "Iteration 110, loss = 0.38444845\n",
      "Iteration 111, loss = 0.38307534\n",
      "Iteration 112, loss = 0.38253387\n",
      "Iteration 113, loss = 0.37742331\n",
      "Iteration 114, loss = 0.37458342\n",
      "Iteration 115, loss = 0.37448952\n",
      "Iteration 116, loss = 0.38470113\n",
      "Iteration 117, loss = 0.38583634\n",
      "Iteration 118, loss = 0.38271564\n",
      "Iteration 119, loss = 0.39230141\n",
      "Iteration 120, loss = 0.37588168\n",
      "Iteration 121, loss = 0.37314806\n",
      "Iteration 122, loss = 0.37243841\n",
      "Iteration 123, loss = 0.36825008\n",
      "Iteration 124, loss = 0.36971157\n",
      "Iteration 125, loss = 0.36656611\n",
      "Iteration 126, loss = 0.36521544\n",
      "Iteration 127, loss = 0.37021633\n",
      "Iteration 128, loss = 0.36810449\n",
      "Iteration 129, loss = 0.36829319\n",
      "Iteration 130, loss = 0.37075717\n",
      "Iteration 131, loss = 0.36956187\n",
      "Iteration 132, loss = 0.36022384\n",
      "Iteration 133, loss = 0.37132303\n",
      "Iteration 134, loss = 0.36597764\n",
      "Iteration 135, loss = 0.36262088\n",
      "Iteration 136, loss = 0.36312299\n",
      "Iteration 137, loss = 0.36365901\n",
      "Iteration 138, loss = 0.35481185\n",
      "Iteration 139, loss = 0.35836879\n",
      "Iteration 140, loss = 0.36502794\n",
      "Iteration 141, loss = 0.36278370\n",
      "Iteration 142, loss = 0.36701781\n",
      "Iteration 143, loss = 0.37574990\n",
      "Iteration 144, loss = 0.36745805\n",
      "Iteration 145, loss = 0.35871719\n",
      "Iteration 146, loss = 0.36887106\n",
      "Iteration 147, loss = 0.36802990\n",
      "Iteration 148, loss = 0.36359498\n",
      "Iteration 149, loss = 0.36342079\n",
      "Training loss did not improve more than tol=0.001000 for 10 consecutive epochs. Stopping.\n",
      "Iteration 1, loss = 0.62421892\n",
      "Iteration 2, loss = 0.54153363\n",
      "Iteration 3, loss = 0.52050876\n",
      "Iteration 4, loss = 0.51335525\n",
      "Iteration 5, loss = 0.50411625\n",
      "Iteration 6, loss = 0.50136124\n",
      "Iteration 7, loss = 0.49691533\n",
      "Iteration 8, loss = 0.49316256\n",
      "Iteration 9, loss = 0.49020598\n",
      "Iteration 10, loss = 0.48594876\n",
      "Iteration 11, loss = 0.48328780\n",
      "Iteration 12, loss = 0.48065945\n",
      "Iteration 13, loss = 0.47785207\n",
      "Iteration 14, loss = 0.47642320\n",
      "Iteration 15, loss = 0.47268985\n",
      "Iteration 16, loss = 0.46952579\n",
      "Iteration 17, loss = 0.46716602\n",
      "Iteration 18, loss = 0.46403604\n",
      "Iteration 19, loss = 0.46533122\n",
      "Iteration 20, loss = 0.46375868\n",
      "Iteration 21, loss = 0.46681243\n",
      "Iteration 22, loss = 0.46246042\n",
      "Iteration 23, loss = 0.45768986\n",
      "Iteration 24, loss = 0.45888859\n",
      "Iteration 25, loss = 0.45288988\n",
      "Iteration 26, loss = 0.45295326\n",
      "Iteration 27, loss = 0.45107824\n",
      "Iteration 28, loss = 0.44922706\n",
      "Iteration 29, loss = 0.44694775\n",
      "Iteration 30, loss = 0.44844219\n",
      "Iteration 31, loss = 0.44481542\n",
      "Iteration 32, loss = 0.44376442\n",
      "Iteration 33, loss = 0.44170010\n",
      "Iteration 34, loss = 0.44257559\n",
      "Iteration 35, loss = 0.44234578\n",
      "Iteration 36, loss = 0.43996178\n",
      "Iteration 37, loss = 0.44237515\n",
      "Iteration 38, loss = 0.44266288\n",
      "Iteration 39, loss = 0.44117707\n",
      "Iteration 40, loss = 0.43762937\n",
      "Iteration 41, loss = 0.43567897\n",
      "Iteration 42, loss = 0.43577142\n",
      "Iteration 43, loss = 0.43470658\n",
      "Iteration 44, loss = 0.43483942\n",
      "Iteration 45, loss = 0.43052537\n",
      "Iteration 46, loss = 0.42900090\n",
      "Iteration 47, loss = 0.42805302\n",
      "Iteration 48, loss = 0.42563209\n",
      "Iteration 49, loss = 0.42402479\n",
      "Iteration 50, loss = 0.42306413\n",
      "Iteration 51, loss = 0.42303767\n",
      "Iteration 52, loss = 0.42271464\n",
      "Iteration 53, loss = 0.42323830\n",
      "Iteration 54, loss = 0.41869808\n",
      "Iteration 55, loss = 0.42111540\n",
      "Iteration 56, loss = 0.41684334\n",
      "Iteration 57, loss = 0.41928971\n",
      "Iteration 58, loss = 0.41712630\n",
      "Iteration 59, loss = 0.41286415\n",
      "Iteration 60, loss = 0.41178221\n",
      "Iteration 61, loss = 0.41112075\n",
      "Iteration 62, loss = 0.41220167\n",
      "Iteration 63, loss = 0.41135017\n",
      "Iteration 64, loss = 0.41078696\n",
      "Iteration 65, loss = 0.40779816\n",
      "Iteration 66, loss = 0.41119400\n",
      "Iteration 67, loss = 0.41075745\n",
      "Iteration 68, loss = 0.40660725\n",
      "Iteration 69, loss = 0.40629531\n",
      "Iteration 70, loss = 0.40290096\n",
      "Iteration 71, loss = 0.40603439\n",
      "Iteration 72, loss = 0.40824511\n",
      "Iteration 73, loss = 0.40001900\n",
      "Iteration 74, loss = 0.39823662\n",
      "Iteration 75, loss = 0.39951957\n",
      "Iteration 76, loss = 0.39729314\n",
      "Iteration 77, loss = 0.39547138\n",
      "Iteration 78, loss = 0.39536580\n",
      "Iteration 79, loss = 0.39676432\n",
      "Iteration 80, loss = 0.39269659\n",
      "Iteration 81, loss = 0.38978196\n",
      "Iteration 82, loss = 0.38862234\n",
      "Iteration 83, loss = 0.39008140\n",
      "Iteration 84, loss = 0.38735229\n",
      "Iteration 85, loss = 0.38855681\n",
      "Iteration 86, loss = 0.38855018\n",
      "Iteration 87, loss = 0.38497120\n",
      "Iteration 88, loss = 0.38704973\n",
      "Iteration 89, loss = 0.38819786\n",
      "Iteration 90, loss = 0.38468875\n",
      "Iteration 91, loss = 0.38170520\n",
      "Iteration 92, loss = 0.38307420\n",
      "Iteration 93, loss = 0.37803096\n",
      "Iteration 94, loss = 0.37879620\n",
      "Iteration 95, loss = 0.37792345\n",
      "Iteration 96, loss = 0.37536744\n",
      "Iteration 97, loss = 0.37358056\n",
      "Iteration 98, loss = 0.37404378\n"
     ]
    },
    {
     "name": "stdout",
     "output_type": "stream",
     "text": [
      "Iteration 99, loss = 0.37395905\n",
      "Iteration 100, loss = 0.36979741\n",
      "Iteration 101, loss = 0.37316770\n",
      "Iteration 102, loss = 0.37032427\n",
      "Iteration 103, loss = 0.37831330\n",
      "Iteration 104, loss = 0.37896543\n",
      "Iteration 105, loss = 0.37026704\n",
      "Iteration 106, loss = 0.37742201\n",
      "Iteration 107, loss = 0.37319654\n",
      "Iteration 108, loss = 0.36864098\n",
      "Iteration 109, loss = 0.36431688\n",
      "Iteration 110, loss = 0.36703398\n",
      "Iteration 111, loss = 0.36611322\n",
      "Iteration 112, loss = 0.36589610\n",
      "Iteration 113, loss = 0.36379781\n",
      "Iteration 114, loss = 0.36403276\n",
      "Iteration 115, loss = 0.36726260\n",
      "Iteration 116, loss = 0.36724671\n",
      "Iteration 117, loss = 0.36557755\n",
      "Iteration 118, loss = 0.36882821\n",
      "Iteration 119, loss = 0.36128168\n",
      "Iteration 120, loss = 0.36990125\n",
      "Iteration 121, loss = 0.36140015\n",
      "Iteration 122, loss = 0.36733442\n",
      "Iteration 123, loss = 0.36580400\n",
      "Iteration 124, loss = 0.35760739\n",
      "Iteration 125, loss = 0.36312109\n",
      "Iteration 126, loss = 0.36054984\n",
      "Iteration 127, loss = 0.35559471\n",
      "Iteration 128, loss = 0.36048993\n",
      "Iteration 129, loss = 0.35093633\n",
      "Iteration 130, loss = 0.35110891\n",
      "Iteration 131, loss = 0.35008976\n",
      "Iteration 132, loss = 0.34933369\n",
      "Iteration 133, loss = 0.35969237\n",
      "Iteration 134, loss = 0.34912295\n",
      "Iteration 135, loss = 0.34624366\n",
      "Iteration 136, loss = 0.34672520\n",
      "Iteration 137, loss = 0.35008624\n",
      "Iteration 138, loss = 0.34829407\n",
      "Iteration 139, loss = 0.34703036\n",
      "Iteration 140, loss = 0.35125512\n",
      "Iteration 141, loss = 0.34376168\n",
      "Iteration 142, loss = 0.34276279\n",
      "Iteration 143, loss = 0.34964629\n",
      "Iteration 144, loss = 0.34532510\n",
      "Iteration 145, loss = 0.34508643\n",
      "Iteration 146, loss = 0.33976116\n",
      "Iteration 147, loss = 0.34974874\n",
      "Iteration 148, loss = 0.34284497\n",
      "Iteration 149, loss = 0.33928364\n",
      "Iteration 150, loss = 0.34832590\n",
      "Iteration 151, loss = 0.34613102\n",
      "Iteration 152, loss = 0.34638738\n",
      "Iteration 153, loss = 0.36122307\n",
      "Iteration 154, loss = 0.34509304\n",
      "Iteration 155, loss = 0.34574846\n",
      "Iteration 156, loss = 0.34406965\n",
      "Iteration 157, loss = 0.33625542\n",
      "Iteration 158, loss = 0.33798680\n",
      "Iteration 159, loss = 0.33541256\n",
      "Iteration 160, loss = 0.33726692\n",
      "Iteration 161, loss = 0.33654919\n",
      "Iteration 162, loss = 0.33205290\n",
      "Iteration 163, loss = 0.32818193\n",
      "Iteration 164, loss = 0.33128898\n",
      "Iteration 165, loss = 0.32888574\n",
      "Iteration 166, loss = 0.33346438\n",
      "Iteration 167, loss = 0.33506838\n",
      "Iteration 168, loss = 0.33017668\n",
      "Iteration 169, loss = 0.33279626\n",
      "Iteration 170, loss = 0.32944463\n",
      "Iteration 171, loss = 0.32674104\n",
      "Iteration 172, loss = 0.33141246\n",
      "Iteration 173, loss = 0.33373535\n",
      "Iteration 174, loss = 0.32589907\n",
      "Iteration 175, loss = 0.32652678\n",
      "Iteration 176, loss = 0.32257606\n",
      "Iteration 177, loss = 0.32019178\n",
      "Iteration 178, loss = 0.32564837\n",
      "Iteration 179, loss = 0.33073913\n",
      "Iteration 180, loss = 0.32288081\n",
      "Iteration 181, loss = 0.31893398\n",
      "Iteration 182, loss = 0.31802634\n",
      "Iteration 183, loss = 0.31996678\n",
      "Iteration 184, loss = 0.31602884\n",
      "Iteration 185, loss = 0.31834339\n",
      "Iteration 186, loss = 0.31671452\n",
      "Iteration 187, loss = 0.31766849\n",
      "Iteration 188, loss = 0.31826986\n",
      "Iteration 189, loss = 0.32349995\n",
      "Iteration 190, loss = 0.32803547\n",
      "Iteration 191, loss = 0.33079287\n",
      "Iteration 192, loss = 0.32452542\n",
      "Iteration 193, loss = 0.31941607\n",
      "Iteration 194, loss = 0.31707296\n",
      "Iteration 195, loss = 0.31737361\n",
      "Training loss did not improve more than tol=0.001000 for 10 consecutive epochs. Stopping.\n",
      "Iteration 1, loss = 0.62118728\n",
      "Iteration 2, loss = 0.54118025\n",
      "Iteration 3, loss = 0.51814706\n",
      "Iteration 4, loss = 0.51273604\n",
      "Iteration 5, loss = 0.50665359\n",
      "Iteration 6, loss = 0.50221840\n",
      "Iteration 7, loss = 0.49831239\n",
      "Iteration 8, loss = 0.49802131\n",
      "Iteration 9, loss = 0.49113422\n",
      "Iteration 10, loss = 0.48878168\n",
      "Iteration 11, loss = 0.48705333\n",
      "Iteration 12, loss = 0.48307599\n",
      "Iteration 13, loss = 0.47964679\n",
      "Iteration 14, loss = 0.47876739\n",
      "Iteration 15, loss = 0.47705073\n",
      "Iteration 16, loss = 0.47299577\n",
      "Iteration 17, loss = 0.47121639\n",
      "Iteration 18, loss = 0.47116626\n",
      "Iteration 19, loss = 0.46894139\n",
      "Iteration 20, loss = 0.46662209\n",
      "Iteration 21, loss = 0.46413727\n",
      "Iteration 22, loss = 0.46212493\n",
      "Iteration 23, loss = 0.46090442\n",
      "Iteration 24, loss = 0.45976556\n",
      "Iteration 25, loss = 0.45681875\n",
      "Iteration 26, loss = 0.45602282\n",
      "Iteration 27, loss = 0.45721196\n",
      "Iteration 28, loss = 0.45539741\n",
      "Iteration 29, loss = 0.45202139\n",
      "Iteration 30, loss = 0.45068728\n",
      "Iteration 31, loss = 0.44925981\n",
      "Iteration 32, loss = 0.44920030\n",
      "Iteration 33, loss = 0.44849345\n",
      "Iteration 34, loss = 0.44541734\n",
      "Iteration 35, loss = 0.44586522\n",
      "Iteration 36, loss = 0.44233444\n",
      "Iteration 37, loss = 0.44135387\n",
      "Iteration 38, loss = 0.43905831\n",
      "Iteration 39, loss = 0.43983256\n",
      "Iteration 40, loss = 0.43981451\n",
      "Iteration 41, loss = 0.43700230\n",
      "Iteration 42, loss = 0.43612313\n",
      "Iteration 43, loss = 0.43384110\n",
      "Iteration 44, loss = 0.43393167\n",
      "Iteration 45, loss = 0.43273313\n",
      "Iteration 46, loss = 0.43090959\n",
      "Iteration 47, loss = 0.42860854\n",
      "Iteration 48, loss = 0.42868792\n",
      "Iteration 49, loss = 0.42661352\n",
      "Iteration 50, loss = 0.42506895\n",
      "Iteration 51, loss = 0.42607405\n",
      "Iteration 52, loss = 0.42444035\n",
      "Iteration 53, loss = 0.42248962\n",
      "Iteration 54, loss = 0.42031298\n",
      "Iteration 55, loss = 0.41963145\n",
      "Iteration 56, loss = 0.41988374\n",
      "Iteration 57, loss = 0.41627924\n",
      "Iteration 58, loss = 0.41399457\n",
      "Iteration 59, loss = 0.41575887\n",
      "Iteration 60, loss = 0.41512167\n",
      "Iteration 61, loss = 0.41176174\n",
      "Iteration 62, loss = 0.41304739\n",
      "Iteration 63, loss = 0.41602459\n",
      "Iteration 64, loss = 0.40969982\n",
      "Iteration 65, loss = 0.40949644\n",
      "Iteration 66, loss = 0.41156711\n",
      "Iteration 67, loss = 0.40800679\n",
      "Iteration 68, loss = 0.40617533\n",
      "Iteration 69, loss = 0.40650446\n",
      "Iteration 70, loss = 0.40286458\n",
      "Iteration 71, loss = 0.40424255\n",
      "Iteration 72, loss = 0.40359660\n",
      "Iteration 73, loss = 0.40547325\n",
      "Iteration 74, loss = 0.40065424\n",
      "Iteration 75, loss = 0.40209987\n",
      "Iteration 76, loss = 0.40646182\n",
      "Iteration 77, loss = 0.40573579\n",
      "Iteration 78, loss = 0.39947930\n",
      "Iteration 79, loss = 0.39582756\n",
      "Iteration 80, loss = 0.39306128\n",
      "Iteration 81, loss = 0.39718889\n",
      "Iteration 82, loss = 0.40160244\n",
      "Iteration 83, loss = 0.39740317\n",
      "Iteration 84, loss = 0.39387566\n",
      "Iteration 85, loss = 0.39001049\n",
      "Iteration 86, loss = 0.38844531\n",
      "Iteration 87, loss = 0.38866471\n",
      "Iteration 88, loss = 0.39013195\n",
      "Iteration 89, loss = 0.39686812\n",
      "Iteration 90, loss = 0.39643373\n",
      "Iteration 91, loss = 0.38898902\n",
      "Iteration 92, loss = 0.38829538\n",
      "Iteration 93, loss = 0.38649784\n",
      "Iteration 94, loss = 0.38488668\n",
      "Iteration 95, loss = 0.38316278\n",
      "Iteration 96, loss = 0.38338536\n",
      "Iteration 97, loss = 0.38751624\n",
      "Iteration 98, loss = 0.37947562\n",
      "Iteration 99, loss = 0.37563662\n",
      "Iteration 100, loss = 0.37635998\n",
      "Iteration 101, loss = 0.38071699\n",
      "Iteration 102, loss = 0.38297627\n",
      "Iteration 103, loss = 0.38415713\n",
      "Iteration 104, loss = 0.38068265\n",
      "Iteration 105, loss = 0.37356215\n",
      "Iteration 106, loss = 0.37703222\n",
      "Iteration 107, loss = 0.37227393\n",
      "Iteration 108, loss = 0.37338619\n",
      "Iteration 109, loss = 0.37355120\n",
      "Iteration 110, loss = 0.37610671\n",
      "Iteration 111, loss = 0.37177892\n",
      "Iteration 112, loss = 0.37199967\n",
      "Iteration 113, loss = 0.37140847\n",
      "Iteration 114, loss = 0.37423491\n",
      "Iteration 115, loss = 0.37008277\n",
      "Iteration 116, loss = 0.37328392\n",
      "Iteration 117, loss = 0.36869159\n",
      "Iteration 118, loss = 0.36877261\n",
      "Iteration 119, loss = 0.36670565\n",
      "Iteration 120, loss = 0.38722921\n",
      "Iteration 121, loss = 0.37561096\n",
      "Iteration 122, loss = 0.37090653\n",
      "Iteration 123, loss = 0.36220061\n",
      "Iteration 124, loss = 0.37244750\n",
      "Iteration 125, loss = 0.36409833\n",
      "Iteration 126, loss = 0.36404708\n",
      "Iteration 127, loss = 0.36158509\n",
      "Iteration 128, loss = 0.36000952\n",
      "Iteration 129, loss = 0.35751967\n",
      "Iteration 130, loss = 0.35959385\n",
      "Iteration 131, loss = 0.36126394\n",
      "Iteration 132, loss = 0.35972985\n",
      "Iteration 133, loss = 0.36301967\n",
      "Iteration 134, loss = 0.35230770\n",
      "Iteration 135, loss = 0.35240582\n",
      "Iteration 136, loss = 0.35619445\n",
      "Iteration 137, loss = 0.35243492\n",
      "Iteration 138, loss = 0.35116039\n",
      "Iteration 139, loss = 0.36315530\n",
      "Iteration 140, loss = 0.35100657\n",
      "Iteration 141, loss = 0.34596856\n",
      "Iteration 142, loss = 0.35165908\n",
      "Iteration 143, loss = 0.35287732\n",
      "Iteration 144, loss = 0.34803470\n",
      "Iteration 145, loss = 0.35026668\n",
      "Iteration 146, loss = 0.34628914\n",
      "Iteration 147, loss = 0.34612486\n",
      "Iteration 148, loss = 0.34758223\n",
      "Iteration 149, loss = 0.34325168\n",
      "Iteration 150, loss = 0.34650913\n",
      "Iteration 151, loss = 0.34797486\n",
      "Iteration 152, loss = 0.35665415\n",
      "Iteration 153, loss = 0.34740945\n",
      "Iteration 154, loss = 0.34529804\n",
      "Iteration 155, loss = 0.34548381\n",
      "Iteration 156, loss = 0.35572538\n"
     ]
    },
    {
     "name": "stdout",
     "output_type": "stream",
     "text": [
      "Iteration 157, loss = 0.35172524\n",
      "Iteration 158, loss = 0.33513674\n",
      "Iteration 159, loss = 0.33818749\n",
      "Iteration 160, loss = 0.33594506\n",
      "Iteration 161, loss = 0.34612544\n",
      "Iteration 162, loss = 0.33599932\n",
      "Iteration 163, loss = 0.35120594\n",
      "Iteration 164, loss = 0.35553614\n",
      "Iteration 165, loss = 0.34961289\n",
      "Iteration 166, loss = 0.34462953\n",
      "Iteration 167, loss = 0.33421913\n",
      "Iteration 168, loss = 0.33679245\n",
      "Iteration 169, loss = 0.33167391\n",
      "Iteration 170, loss = 0.33178065\n",
      "Iteration 171, loss = 0.33027482\n",
      "Iteration 172, loss = 0.32810481\n",
      "Iteration 173, loss = 0.32739616\n",
      "Iteration 174, loss = 0.32560877\n",
      "Iteration 175, loss = 0.32869412\n",
      "Iteration 176, loss = 0.32367720\n",
      "Iteration 177, loss = 0.32784508\n",
      "Iteration 178, loss = 0.32526508\n",
      "Iteration 179, loss = 0.34179628\n",
      "Iteration 180, loss = 0.33990767\n",
      "Iteration 181, loss = 0.34154713\n",
      "Iteration 182, loss = 0.34152041\n",
      "Iteration 183, loss = 0.33873967\n",
      "Iteration 184, loss = 0.33297040\n",
      "Iteration 185, loss = 0.33069388\n",
      "Iteration 186, loss = 0.32313182\n",
      "Iteration 187, loss = 0.32497319\n",
      "Training loss did not improve more than tol=0.001000 for 10 consecutive epochs. Stopping.\n",
      "Iteration 1, loss = 0.60171162\n",
      "Iteration 2, loss = 0.52672580\n",
      "Iteration 3, loss = 0.52137640\n",
      "Iteration 4, loss = 0.51138434\n",
      "Iteration 5, loss = 0.50764505\n",
      "Iteration 6, loss = 0.50542324\n",
      "Iteration 7, loss = 0.50153588\n",
      "Iteration 8, loss = 0.50130904\n",
      "Iteration 9, loss = 0.49632108\n",
      "Iteration 10, loss = 0.49813772\n",
      "Iteration 11, loss = 0.49760763\n",
      "Iteration 12, loss = 0.49978550\n",
      "Iteration 13, loss = 0.50113355\n",
      "Training loss did not improve more than tol=0.010000 for 10 consecutive epochs. Stopping.\n"
     ]
    },
    {
     "data": {
      "text/plain": [
       "GridSearchCV(cv=3, error_score='raise-deprecating',\n",
       "             estimator=MLPClassifier(activation='relu', alpha=0.0001,\n",
       "                                     batch_size='auto', beta_1=0.9,\n",
       "                                     beta_2=0.999, early_stopping=False,\n",
       "                                     epsilon=1e-08, hidden_layer_sizes=(100,),\n",
       "                                     learning_rate='constant',\n",
       "                                     learning_rate_init=0.001, max_iter=200,\n",
       "                                     momentum=0.9, n_iter_no_change=10,\n",
       "                                     nesterovs_momentum=True, power_t=0.5,\n",
       "                                     random_state=1, shuffle=True,\n",
       "                                     solver='adam', tol=0.0001,\n",
       "                                     validation_fraction=0.1, verbose=True,\n",
       "                                     warm_start=False),\n",
       "             iid='warn', n_jobs=None,\n",
       "             param_grid={'activation': ['logistic', 'relu'],\n",
       "                         'hidden_layer_sizes': [(100, 100, 100)],\n",
       "                         'max_iter': [10000], 'solver': ['sgd', 'adam'],\n",
       "                         'tol': [0.01, 0.001]},\n",
       "             pre_dispatch='2*n_jobs', refit=True, return_train_score=False,\n",
       "             scoring=None, verbose=0)"
      ]
     },
     "execution_count": 70,
     "metadata": {},
     "output_type": "execute_result"
    }
   ],
   "source": [
    "\n",
    "cart_metrics=classification_report(y_train,ytrain_predict_dt,output_dict=True)\n",
    "data=pd.DataFrame(cart_metrics).transpose()\n",
    "cart_train_precision=round(data.loc[\"1\"][0],2)\n",
    "cart_train_recall=round(data.loc[\"1\"][1],2)\n",
    "cart_train_f1=round(data.loc[\"1\"][2],2)\n",
    "grid_search.fit(X_trains, y_train)"
   ]
  },
  {
   "cell_type": "code",
   "execution_count": 71,
   "metadata": {
    "colab": {
     "base_uri": "https://localhost:8080/"
    },
    "id": "_sGRsOsuvK_f",
    "outputId": "dbf18abe-3a9c-41dd-990a-b3be6e56df42"
   },
   "outputs": [
    {
     "data": {
      "text/plain": [
       "{'activation': 'relu',\n",
       " 'hidden_layer_sizes': (100, 100, 100),\n",
       " 'max_iter': 10000,\n",
       " 'solver': 'adam',\n",
       " 'tol': 0.01}"
      ]
     },
     "execution_count": 71,
     "metadata": {},
     "output_type": "execute_result"
    }
   ],
   "source": [
    "grid_search.best_params_"
   ]
  },
  {
   "cell_type": "code",
   "execution_count": 72,
   "metadata": {
    "id": "WzwUB12ZvNjS"
   },
   "outputs": [],
   "source": [
    "best_grid_ann = grid_search.best_estimator_"
   ]
  },
  {
   "cell_type": "code",
   "execution_count": 73,
   "metadata": {
    "id": "IinQdv7avS4M"
   },
   "outputs": [],
   "source": [
    "ytrain_predict_ann = best_grid_ann.predict(X_trains)\n",
    "ytest_predict_ann = best_grid_ann.predict(X_tests)"
   ]
  },
  {
   "cell_type": "code",
   "execution_count": 74,
   "metadata": {
    "colab": {
     "base_uri": "https://localhost:8080/"
    },
    "id": "Ux-z4NTdvaLX",
    "outputId": "769d7f54-2a6f-45cb-e4c0-e05bbc0cbff1"
   },
   "outputs": [
    {
     "name": "stdout",
     "output_type": "stream",
     "text": [
      "              precision    recall  f1-score   support\n",
      "\n",
      "           0       0.81      0.85      0.83      1343\n",
      "           1       0.67      0.60      0.63       659\n",
      "\n",
      "    accuracy                           0.77      2002\n",
      "   macro avg       0.74      0.73      0.73      2002\n",
      "weighted avg       0.76      0.77      0.77      2002\n",
      "\n"
     ]
    }
   ],
   "source": [
    "print(classification_report(y_train,ytrain_predict_ann))"
   ]
  },
  {
   "cell_type": "code",
   "execution_count": 75,
   "metadata": {
    "colab": {
     "base_uri": "https://localhost:8080/"
    },
    "id": "1evJXa7I4wfW",
    "outputId": "e76f7209-c392-4611-f7c8-fc1bdfcb53a9"
   },
   "outputs": [
    {
     "name": "stdout",
     "output_type": "stream",
     "text": [
      "[[1147  196]\n",
      " [ 265  394]]\n"
     ]
    }
   ],
   "source": [
    "print(confusion_matrix(y_train,ytrain_predict_ann))"
   ]
  },
  {
   "cell_type": "code",
   "execution_count": 76,
   "metadata": {
    "colab": {
     "base_uri": "https://localhost:8080/"
    },
    "id": "ASABToMdl0k9",
    "outputId": "62834351-3dc2-4c63-8d46-3bac3d300652"
   },
   "outputs": [
    {
     "name": "stdout",
     "output_type": "stream",
     "text": [
      "Accuracy 0.7697302697302697\n",
      "AUC: 0.808\n",
      "ann_train_precision  0.67\n",
      "ann_train_recall  0.6\n",
      "ann_train_f1  0.63\n"
     ]
    }
   ],
   "source": [
    "ann_train_acc = best_grid_ann.score(X_trains, y_train)\n",
    "probs_ann = best_grid_ann.predict_proba(X_trains)[:, 1]\n",
    "ann_train_auc = roc_auc_score(y_train, probs_ann)\n",
    "print('Accuracy', ann_train_acc)\n",
    "print('AUC: %.3f' % ann_train_auc)\n",
    "ann_metrics=classification_report(y_train,ytrain_predict_ann,output_dict=True)\n",
    "data_ann=pd.DataFrame(ann_metrics).transpose()\n",
    "ann_train_precision=round(data_ann.loc[\"1\"][0],2)\n",
    "ann_train_recall=round(data_ann.loc[\"1\"][1],2)\n",
    "ann_train_f1=round(data_ann.loc[\"1\"][2],2)\n",
    "print ('ann_train_precision ',ann_train_precision)\n",
    "print ('ann_train_recall ',ann_train_recall)\n",
    "print ('ann_train_f1 ',ann_train_f1)"
   ]
  },
  {
   "cell_type": "code",
   "execution_count": 77,
   "metadata": {
    "colab": {
     "base_uri": "https://localhost:8080/"
    },
    "id": "VAhUfDNEm4BA",
    "outputId": "fae562d0-e539-429e-8bfc-4d5858339465"
   },
   "outputs": [
    {
     "name": "stdout",
     "output_type": "stream",
     "text": [
      "Accuracy 0.7610722610722611\n",
      "AUC: 0.795\n",
      "ann_test_precision  0.61\n",
      "ann_test_recall  0.55\n",
      "ann_test_f1  0.58\n"
     ]
    }
   ],
   "source": [
    "ann_test_acc = best_grid_ann.score(X_tests, y_test)\n",
    "probs_ann = best_grid_ann.predict_proba(X_tests)[:, 1]\n",
    "ann_test_auc = roc_auc_score(y_test, probs_ann)\n",
    "print('Accuracy', ann_test_acc)\n",
    "print('AUC: %.3f' % ann_test_auc)\n",
    "ann_metrics=classification_report(y_test,ytest_predict_ann,output_dict=True)\n",
    "data_ann=pd.DataFrame(ann_metrics).transpose()\n",
    "ann_test_precision=round(data_ann.loc[\"1\"][0],2)\n",
    "ann_test_recall=round(data_ann.loc[\"1\"][1],2)\n",
    "ann_test_f1=round(data_ann.loc[\"1\"][2],2)\n",
    "print ('ann_test_precision ',ann_test_precision)\n",
    "print ('ann_test_recall ',ann_test_recall)\n",
    "print ('ann_test_f1 ',ann_test_f1)"
   ]
  },
  {
   "cell_type": "code",
   "execution_count": 78,
   "metadata": {
    "colab": {
     "base_uri": "https://localhost:8080/"
    },
    "id": "pNTu7hLbvfjy",
    "outputId": "9cdf252d-3a65-4d66-a96b-ffb85a225c92"
   },
   "outputs": [
    {
     "name": "stdout",
     "output_type": "stream",
     "text": [
      "              precision    recall  f1-score   support\n",
      "\n",
      "           0       0.82      0.85      0.83       603\n",
      "           1       0.61      0.55      0.58       255\n",
      "\n",
      "    accuracy                           0.76       858\n",
      "   macro avg       0.71      0.70      0.70       858\n",
      "weighted avg       0.75      0.76      0.76       858\n",
      "\n"
     ]
    }
   ],
   "source": [
    "print(classification_report(y_test,ytest_predict_ann))"
   ]
  },
  {
   "cell_type": "code",
   "execution_count": 79,
   "metadata": {
    "colab": {
     "base_uri": "https://localhost:8080/"
    },
    "id": "udaiK6M342Oy",
    "outputId": "ff05d564-819e-4b58-fa0f-39e330bef0d7"
   },
   "outputs": [
    {
     "name": "stdout",
     "output_type": "stream",
     "text": [
      "[[514  89]\n",
      " [116 139]]\n"
     ]
    }
   ],
   "source": [
    "print(confusion_matrix(y_test,ytest_predict_ann))"
   ]
  },
  {
   "cell_type": "code",
   "execution_count": 80,
   "metadata": {
    "colab": {
     "base_uri": "https://localhost:8080/"
    },
    "id": "rkWmlcqrgp50",
    "outputId": "0ecceed1-fd8b-477a-962a-1b4609f3c876"
   },
   "outputs": [
    {
     "name": "stdout",
     "output_type": "stream",
     "text": [
      "ANN_precision  0.61\n",
      "ANN_recall  0.55\n",
      "ANN_f1  0.58\n"
     ]
    }
   ],
   "source": [
    "ANN_metrics=classification_report(y_test,ytest_predict_ann,output_dict=True)\n",
    "data=pd.DataFrame(ANN_metrics).transpose()\n",
    "ANN_precision=round(data.loc[\"1\"][0],2)\n",
    "ANN_recall=round(data.loc[\"1\"][1],2)\n",
    "ANN_f1=round(data.loc[\"1\"][2],2)\n",
    "print ('ANN_precision ',ANN_precision)\n",
    "print ('ANN_recall ',ANN_recall)\n",
    "print ('ANN_f1 ',ANN_f1)"
   ]
  },
  {
   "cell_type": "code",
   "execution_count": 81,
   "metadata": {
    "colab": {
     "base_uri": "https://localhost:8080/",
     "height": 283
    },
    "id": "RPQxFvTvvkgV",
    "outputId": "59352abf-e983-45b0-db27-cb97c6fa7392"
   },
   "outputs": [
    {
     "name": "stdout",
     "output_type": "stream",
     "text": [
      "AUC: 0.816\n"
     ]
    },
    {
     "data": {
      "image/png": "[encoded data removed]",
      "text/plain": [
       "<Figure size 432x288 with 1 Axes>"
      ]
     },
     "metadata": {
      "needs_background": "light"
     },
     "output_type": "display_data"
    }
   ],
   "source": [
    "# predict probabilities\n",
    "RFprobs = best_grid_ann.predict_proba(X_train)\n",
    "# keep probabilities for the positive outcome only\n",
    "RFprobs = RFprobs[:, 1]\n",
    "# calculate AUC\n",
    "from sklearn.metrics import roc_auc_score\n",
    "RFauc = roc_auc_score(ytrain_predict_ann, RFprobs)\n",
    "print('AUC: %.3f' % RFauc)\n",
    "# calculate roc curve\n",
    "from sklearn.metrics import roc_curve\n",
    "fpr_ann_train, tpr_ann_train, thresholds = roc_curve(ytrain_predict_ann, RFprobs)\n",
    "plt.plot([0, 1], [0, 1], linestyle='--')\n",
    "# plot the roc curve for the model\n",
    "plt.plot(fpr_ann_train, tpr_ann_train, marker='.')\n",
    "# show the plot\n",
    "plt.show()"
   ]
  },
  {
   "cell_type": "code",
   "execution_count": 82,
   "metadata": {
    "colab": {
     "base_uri": "https://localhost:8080/",
     "height": 283
    },
    "id": "30I-9PibHsHG",
    "outputId": "edf865e1-d6b5-45c7-aeca-ebdd77b22215"
   },
   "outputs": [
    {
     "name": "stdout",
     "output_type": "stream",
     "text": [
      "AUC: 0.837\n"
     ]
    },
    {
     "data": {
      "image/png": "[encoded data removed]",
      "text/plain": [
       "<Figure size 432x288 with 1 Axes>"
      ]
     },
     "metadata": {
      "needs_background": "light"
     },
     "output_type": "display_data"
    }
   ],
   "source": [
    "# predict probabilities\n",
    "RFprobs = best_grid_ann.predict_proba(X_test)\n",
    "# keep probabilities for the positive outcome only\n",
    "RFprobs = RFprobs[:, 1]\n",
    "# calculate AUC\n",
    "from sklearn.metrics import roc_auc_score\n",
    "RFauc = roc_auc_score(ytest_predict_ann, RFprobs)\n",
    "print('AUC: %.3f' % RFauc)\n",
    "# calculate roc curve\n",
    "from sklearn.metrics import roc_curve\n",
    "fpr_ann_test, tpr_ann_test, thresholds = roc_curve(ytest_predict_ann, RFprobs)\n",
    "plt.plot([0, 1], [0, 1], linestyle='--')\n",
    "# plot the roc curve for the model\n",
    "plt.plot(fpr_ann_test, tpr_ann_test, marker='.')\n",
    "# show the plot\n",
    "plt.show()"
   ]
  },
  {
   "cell_type": "markdown",
   "metadata": {
    "id": "sU3Q7zSvdUiE"
   },
   "source": [
    "**Comparing Model**"
   ]
  },
  {
   "cell_type": "code",
   "execution_count": 83,
   "metadata": {
    "colab": {
     "base_uri": "https://localhost:8080/",
     "height": 206
    },
    "id": "g0gO3LGmhA2a",
    "outputId": "8b79f101-0d5b-4c42-8f21-22da70190608"
   },
   "outputs": [
    {
     "data": {
      "text/html": [
       "<div>\n",
       "<style scoped>\n",
       "    .dataframe tbody tr th:only-of-type {\n",
       "        vertical-align: middle;\n",
       "    }\n",
       "\n",
       "    .dataframe tbody tr th {\n",
       "        vertical-align: top;\n",
       "    }\n",
       "\n",
       "    .dataframe thead th {\n",
       "        text-align: right;\n",
       "    }\n",
       "</style>\n",
       "<table border=\"1\" class=\"dataframe\">\n",
       "  <thead>\n",
       "    <tr style=\"text-align: right;\">\n",
       "      <th></th>\n",
       "      <th>CART Train</th>\n",
       "      <th>CART Test</th>\n",
       "      <th>Random Forest Train</th>\n",
       "      <th>Random Forest Test</th>\n",
       "      <th>Neural Network Train</th>\n",
       "      <th>Neural Network Test</th>\n",
       "    </tr>\n",
       "  </thead>\n",
       "  <tbody>\n",
       "    <tr>\n",
       "      <td>Accuracy</td>\n",
       "      <td>0.80</td>\n",
       "      <td>0.77</td>\n",
       "      <td>0.80</td>\n",
       "      <td>0.78</td>\n",
       "      <td>0.77</td>\n",
       "      <td>0.76</td>\n",
       "    </tr>\n",
       "    <tr>\n",
       "      <td>AUC</td>\n",
       "      <td>0.85</td>\n",
       "      <td>0.78</td>\n",
       "      <td>0.85</td>\n",
       "      <td>0.81</td>\n",
       "      <td>0.81</td>\n",
       "      <td>0.80</td>\n",
       "    </tr>\n",
       "    <tr>\n",
       "      <td>Recall</td>\n",
       "      <td>0.60</td>\n",
       "      <td>0.51</td>\n",
       "      <td>0.62</td>\n",
       "      <td>0.57</td>\n",
       "      <td>0.60</td>\n",
       "      <td>0.55</td>\n",
       "    </tr>\n",
       "    <tr>\n",
       "      <td>Precision</td>\n",
       "      <td>0.75</td>\n",
       "      <td>0.64</td>\n",
       "      <td>0.73</td>\n",
       "      <td>0.64</td>\n",
       "      <td>0.67</td>\n",
       "      <td>0.61</td>\n",
       "    </tr>\n",
       "    <tr>\n",
       "      <td>F1 Score</td>\n",
       "      <td>0.67</td>\n",
       "      <td>0.57</td>\n",
       "      <td>0.67</td>\n",
       "      <td>0.60</td>\n",
       "      <td>0.63</td>\n",
       "      <td>0.58</td>\n",
       "    </tr>\n",
       "  </tbody>\n",
       "</table>\n",
       "</div>"
      ],
      "text/plain": [
       "           CART Train  CART Test  Random Forest Train  Random Forest Test  \\\n",
       "Accuracy         0.80       0.77                 0.80                0.78   \n",
       "AUC              0.85       0.78                 0.85                0.81   \n",
       "Recall           0.60       0.51                 0.62                0.57   \n",
       "Precision        0.75       0.64                 0.73                0.64   \n",
       "F1 Score         0.67       0.57                 0.67                0.60   \n",
       "\n",
       "           Neural Network Train  Neural Network Test  \n",
       "Accuracy                   0.77                 0.76  \n",
       "AUC                        0.81                 0.80  \n",
       "Recall                     0.60                 0.55  \n",
       "Precision                  0.67                 0.61  \n",
       "F1 Score                   0.63                 0.58  "
      ]
     },
     "execution_count": 83,
     "metadata": {},
     "output_type": "execute_result"
    }
   ],
   "source": [
    "index=['Accuracy', 'AUC', 'Recall','Precision','F1 Score']\n",
    "data = pd.DataFrame({'CART Train':[cart_train_acc,DT_train_auc,cart_train_recall,cart_train_precision,cart_train_f1],\n",
    "        'CART Test':[cart_test_acc,DT_test_auc,cart_test_recall,cart_test_precision,cart_test_f1],\n",
    "        'Random Forest Train':[rfc_train_acc,rfc_train_auc,rfc_train_recall,rfc_train_precision,rfc_train_f1],\n",
    "        'Random Forest Test':[rfc_test_acc,rfc_test_auc,rfc_test_recall,rfc_test_precision,rfc_test_f1],\n",
    "        'Neural Network Train':[ann_train_acc,ann_train_auc,ann_train_recall,ann_train_precision,ann_train_f1],\n",
    "        'Neural Network Test':[ann_test_acc,ann_test_auc,ann_test_recall,ann_test_precision,ann_test_f1]},\n",
    "        index=index)\n",
    "round(data,2)"
   ]
  },
  {
   "cell_type": "code",
   "execution_count": 84,
   "metadata": {
    "colab": {
     "base_uri": "https://localhost:8080/",
     "height": 337
    },
    "id": "_f8Xu7fBoukf",
    "outputId": "316744e9-0747-44a0-a47a-31f0aadbe6cb"
   },
   "outputs": [
    {
     "data": {
      "image/png": "[encoded data removed]",
      "text/plain": [
       "<Figure size 432x288 with 1 Axes>"
      ]
     },
     "metadata": {
      "needs_background": "light"
     },
     "output_type": "display_data"
    }
   ],
   "source": [
    "plt.plot([0, 1], [0, 1], linestyle='--')\n",
    "plt.plot(fpr_dt_train, tpr_dt_train,color='red',label=\"CART\")\n",
    "plt.plot(fpr_rfc_train,tpr_rfc_train,color='green',label=\"RF\")\n",
    "plt.plot(fpr_ann_train,tpr_ann_train,color='black',label=\"NN\")\n",
    "plt.xlabel('False Positive Rate')\n",
    "plt.ylabel('True Positive Rate')\n",
    "plt.title('ROC')\n",
    "plt.legend(bbox_to_anchor=(0., 1.02, 1., .102), loc='lower right')\n",
    "plt.show()"
   ]
  },
  {
   "cell_type": "code",
   "execution_count": 85,
   "metadata": {
    "colab": {
     "base_uri": "https://localhost:8080/",
     "height": 337
    },
    "id": "g1zm0MTErRdt",
    "outputId": "dfcedc00-9b18-4dca-869c-9fdc946feeaf"
   },
   "outputs": [
    {
     "data": {
      "image/png": "[encoded data removed]",
      "text/plain": [
       "<Figure size 432x288 with 1 Axes>"
      ]
     },
     "metadata": {
      "needs_background": "light"
     },
     "output_type": "display_data"
    }
   ],
   "source": [
    "plt.plot([0, 1], [0, 1], linestyle='--')\n",
    "plt.plot(fpr_dt_test, tpr_dt_test,color='red',label=\"CART\")\n",
    "plt.plot(fpr_rfc_test,tpr_rfc_test,color='green',label=\"RF\")\n",
    "plt.plot(fpr_ann_test,tpr_ann_test,color='black',label=\"NN\")\n",
    "plt.xlabel('False Positive Rate')\n",
    "plt.ylabel('True Positive Rate')\n",
    "plt.title('ROC')\n",
    "plt.legend(bbox_to_anchor=(0., 1.02, 1., .102), loc='lower right')\n",
    "plt.show()"
   ]
  }
 ],
 "metadata": {
  "accelerator": "GPU",
  "colab": {
   "collapsed_sections": [],
   "name": "Data Mining Group Assignment.ipynb",
   "provenance": []
  },
  "kernelspec": {
   "display_name": "Python 3",
   "language": "python",
   "name": "python3"
  },
  "language_info": {
   "codemirror_mode": {
    "name": "ipython",
    "version": 3
   },
   "file_extension": ".py",
   "mimetype": "text/x-python",
   "name": "python",
   "nbconvert_exporter": "python",
   "pygments_lexer": "ipython3",
   "version": "3.7.1"
  }
 },
 "nbformat": 4,
 "nbformat_minor": 1
}
